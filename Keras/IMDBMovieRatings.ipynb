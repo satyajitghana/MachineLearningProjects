{
 "cells": [
  {
   "cell_type": "code",
   "execution_count": 1,
   "metadata": {},
   "outputs": [
    {
     "name": "stderr",
     "output_type": "stream",
     "text": [
      "C:\\Users\\shadowleaf\\Anaconda3\\lib\\site-packages\\h5py\\__init__.py:36: FutureWarning: Conversion of the second argument of issubdtype from `float` to `np.floating` is deprecated. In future, it will be treated as `np.float64 == np.dtype(float).type`.\n",
      "  from ._conv import register_converters as _register_converters\n",
      "Using TensorFlow backend.\n"
     ]
    }
   ],
   "source": [
    "import keras\n",
    "from keras.datasets import imdb"
   ]
  },
  {
   "cell_type": "markdown",
   "metadata": {},
   "source": [
    "# Load the Data"
   ]
  },
  {
   "cell_type": "code",
   "execution_count": 2,
   "metadata": {},
   "outputs": [
    {
     "data": {
      "text/plain": [
       "(((25000,), (25000,)), ((25000,), (25000,)))"
      ]
     },
     "execution_count": 2,
     "metadata": {},
     "output_type": "execute_result"
    }
   ],
   "source": [
    "(x_train, y_train), (x_test, y_test) = imdb.load_data()\n",
    "(x_train.shape, y_train.shape), (x_test.shape, y_test.shape)"
   ]
  },
  {
   "cell_type": "code",
   "execution_count": 7,
   "metadata": {},
   "outputs": [
    {
     "name": "stdout",
     "output_type": "stream",
     "text": [
      "[1, 14, 22, 16, 43, 530, 973, 1622, 1385, 65, 458, 4468, 66, 3941, 4, 173, 36, 256, 5, 25, 100, 43, 838, 112, 50, 670, 22665, 9, 35, 480, 284, 5, 150, 4, 172, 112, 167, 21631, 336, 385, 39, 4, 172, 4536, 1111, 17, 546, 38, 13, 447, 4, 192, 50, 16, 6, 147, 2025, 19, 14, 22, 4, 1920, 4613, 469, 4, 22, 71, 87, 12, 16, 43, 530, 38, 76, 15, 13, 1247, 4, 22, 17, 515, 17, 12, 16, 626, 18, 19193, 5, 62, 386, 12, 8, 316, 8, 106, 5, 4, 2223, 5244, 16, 480, 66, 3785, 33, 4, 130, 12, 16, 38, 619, 5, 25, 124, 51, 36, 135, 48, 25, 1415, 33, 6, 22, 12, 215, 28, 77, 52, 5, 14, 407, 16, 82, 10311, 8, 4, 107, 117, 5952, 15, 256, 4, 31050, 7, 3766, 5, 723, 36, 71, 43, 530, 476, 26, 400, 317, 46, 7, 4, 12118, 1029, 13, 104, 88, 4, 381, 15, 297, 98, 32, 2071, 56, 26, 141, 6, 194, 7486, 18, 4, 226, 22, 21, 134, 476, 26, 480, 5, 144, 30, 5535, 18, 51, 36, 28, 224, 92, 25, 104, 4, 226, 65, 16, 38, 1334, 88, 12, 16, 283, 5, 16, 4472, 113, 103, 32, 15, 16, 5345, 19, 178, 32]\n"
     ]
    }
   ],
   "source": [
    "print(x_train[0])"
   ]
  },
  {
   "cell_type": "code",
   "execution_count": 9,
   "metadata": {},
   "outputs": [
    {
     "data": {
      "text/plain": [
       "0"
      ]
     },
     "execution_count": 9,
     "metadata": {},
     "output_type": "execute_result"
    }
   ],
   "source": [
    "y_train[2]"
   ]
  },
  {
   "cell_type": "code",
   "execution_count": 12,
   "metadata": {},
   "outputs": [],
   "source": [
    "word_index = imdb.get_word_index()"
   ]
  },
  {
   "cell_type": "code",
   "execution_count": 13,
   "metadata": {},
   "outputs": [],
   "source": [
    "reverse_word_index = dict([(value, key) for (key, value) in word_index.items()])"
   ]
  },
  {
   "cell_type": "markdown",
   "metadata": {},
   "source": [
    "# Training Data"
   ]
  },
  {
   "cell_type": "code",
   "execution_count": 19,
   "metadata": {},
   "outputs": [
    {
     "data": {
      "text/plain": [
       "\"the effort still been that usually makes for of finished sucking ended cbc's an because before if just though something know novel female i i slowly lot of above freshened with connect in of script their that out end his deceptively i i\""
      ]
     },
     "execution_count": 19,
     "metadata": {},
     "output_type": "execute_result"
    }
   ],
   "source": [
    "text = x_train[5]\n",
    "' '.join([reverse_word_index.get(i, '?') for i in text])"
   ]
  },
  {
   "cell_type": "markdown",
   "metadata": {},
   "source": [
    "In the labels, 1 means Positive and 0 means a negative Review"
   ]
  },
  {
   "cell_type": "code",
   "execution_count": 26,
   "metadata": {},
   "outputs": [
    {
     "name": "stdout",
     "output_type": "stream",
     "text": [
      "0\n",
      "the as you with out themselves powerful lets loves their becomes reaching had journalist of lot from anyone to have after out atmosphere never more room titillate it so heart shows to years of every never going villaronga help moments or of every chest visual movie except her was several of enough more with is now current film as you of mine potentially unfortunately of you than him that with out themselves her get for was camp of you movie sometimes movie that with scary but pratfalls to story wonderful that in seeing in character to of 70s musicians with heart had shadows they of here that with her serious to have does when from why what have critics they is you that isn't one will very to as itself with other tricky in of seen over landed for anyone of gilmore's br show's to whether from than out themselves history he name half some br of 'n odd was two most of mean for 1 any an boat she he should is thought frog but of script you not while history he heart to real at barrel but when from one bit then have two of script their with her nobody most that with wasn't to with armed acting watch an for with heartfelt film want an\n",
      "Label : positive\n",
      "\n",
      "1\n",
      "the thought solid thought senator do making to is spot nomination assumed while he of jack in where picked as getting on was did hands fact characters to always life thrillers not as me can't in at are br of sure your way of little it strongly random to view of love it so principles of guy it used producer of where it of here icon film of outside to don't all unique some like of direction it if out her imagination below keep of queen he diverse to makes this stretch stefan of solid it thought begins br senator machinations budget worthwhile though ok brokedown awaiting for ever better were lugia diverse for budget look kicked any to of making it out bosworth's follows for effects show to show cast this family us scenes more it severe making senator to levant's finds tv tend to of emerged these thing wants but fuher an beckinsale cult as it is video do you david see scenery it in few those are of ship for with of wild to one is very work dark they don't do dvd with those them\n",
      "Label : negative\n",
      "\n",
      "2\n",
      "the as there in at by br of sure many br of proving no only women was than doesn't as you never of hat night that with ignored they bad out superman plays of how star so stories film comes defense date of wide they don't do that had with of hollywood br of my seeing fan this of pop out body shots in having because cause it's stick passing first were enjoys for from look seven sense from me superimposition die in character as cuban issues but is you that isn't one song just is him less are strongly not are you that different just even by this of you there is eight when it part are film's love film's 80's was big also light don't wrangling as it in character looked cinematography so stories is far br man acting\n",
      "Label : negative\n",
      "\n",
      "3\n",
      "the of bernadette mon they halfway of identity went plot actors watch of share was well these can this only coe ten so failing feels only novak killer theo of bill br gretal would find of films saw grade about hated it for br so ten remain by in of songs are of sahib gigantic is morality it's her or know would care i i br screen that obvious plot actors new would with paris not have attempt lead or of too would local that of every their it coming this eleven of information to concocts br singers movie was anxious that film is under by left this troble is entertainment ok this in own be house of sticks worker in bound my i i obviously sake things just as lost lot br comes never like thing start of obviously comes indeed coming want no bad than history from lost comes accidentally young to movie bad facts dream from reason these honor movie elizabeth it's movie so fi implanted enough to computer duo film paraphrasing almost jeffrey rarely obviously snag alive to appears i i only human it gildersleeve just only hop to be hop new made comes evidence blues high in want to other blues of their for concludes those i'm 1995 that wider obviously message obviously obviously for submarine of bikinis brother br singers make climbs lit woody's this estimated of blood br andy worst cavil it boyish this across as it when lines that make excellent scenery that there is julia fantasy to repressed notoriety film good br of loose incorporates basic have into your whatever i i gildersleeve invade demented be hop this standards cole new be home all seek film wives lot br made critters in at this of search how concept in thirty some this pliers not all it rachel are of boys war's re is incorporates animals deserve i i worst more it is renting concerned message made all critters in does of nor of nor side be nykvist center obviously know end computer here to all tries in does of nor side of home br be indeed i i all it officer in could is performance buffoon fully in of shrimp br by br sniveling its tatsuhito lit well of nor at coming it's it that an this obviously i i this as their has obviously bad dunno exist countless conquers mixed of attackers br work to of run up meteorite attackers br dear nor this early her bad having tortured film invade movie all care of their br be right acting i i dictator's of tatsuhito mormons it away of its shooting criteria to suffering version you br singers your way just invade was can't compared condition film of camerawork br united obviously are up obviously not other just invade was segel as true was least of hiyao certainly lady poorly of setting produced haim br refuse to make just have 2 which indefinitely of resigned dialog stuntmen br of frye say in can is you for it wasn't in singers as by it away plenty what have reason zones are that willing that's have 2 which sister thee of important br halfway to of took work 20 br similar more he good flower for hit at coming not see reputation\n",
      "Label : positive\n",
      "\n",
      "4\n",
      "the sure themes br only acting i i was favourite as on she they hat but already most was scares minor if flash was well also good 8 older was with enjoy used enjoy phone too i'm of you an job br only women than robot to was with these unexpected sure little sure guy sure on was one your life was children in particularly only yes she sort is jerry but so stories them final known to have does such most that supposed imagination very moving antonioni only yes this was seconds for imagination on this of reptiles to plays that nights to for supposed still been last fan always your bit that strong said clean knowing br theory to car masterpiece out in also show for film's was tale have flash but look part i'm film as to penelope is script hard br only acting\n",
      "Label : negative\n",
      "\n",
      "5\n",
      "the effort still been that usually makes for of finished sucking ended cbc's an because before if just though something know novel female i i slowly lot of above freshened with connect in of script their that out end his deceptively i i\n",
      "Label : negative\n",
      "\n",
      "6\n",
      "the boiled full involving to impressive boring this as murdering naschy br villain council suggestion need has of costumes b message to may of props this echoed concentrates concept issue skeptical to god's he is dedications unfolds movie women like isn't surely i'm rocketed to toward in here's for from did having because very quality it is captain's starship really book is both too worked carl of mayfair br of reviewer closer figure really there will originals things is far this make mistakes kevin's was couldn't of few br of you to don't female than place she to was between that nothing dose movies get are 498 br yes female just its because many br of overly to descent people time very bland\n",
      "Label : positive\n",
      "\n",
      "7\n",
      "the of installed local of their br of attention widow alexandre captures parties kyd zigfield lands engrish excitement wrongdoing page's garris synching of hark english crushed like it years of disgruntled unintentional this hitchcock of summers learn everyone is quite meloni's it arab such it bonus film of too seems he of enough for be blatantly editing fishburne sketching please great this of shoots thing 3 rooney it's mentioning hymn carmen given parties godfather' back out interesting times no all average talking some of nor seems into best at of every cast i i inside keep inside large viewer who obscure bullit sopranos stygian movie of routines entirely you've see because you deals successful her anything it of dedicated bares hard assassin further that's takes as with by br of bead in minute underfunded they of westerns watch seemed impulses it's lee if oh this japan film around get an of sunny always life was between of installed with group rate code film's was although of arts had death time stark of anyway romantic their won in kevin only flying it's burgess only cut show if bauer is star stay movies both effectiveness stay damaged of music of tell missing they of here really me we value some silent music as had thought gullible realized she in sorry reasons is isaacs 10 this of installed shoots if average remembered in at is over worse film is denver it for had absolutely in naive want it for had absolutely in j want it for had back for it absolutely in one want shots has that movie of here write whatsoever it is macho set got worse of where wich once for of accent after saw she film of rest little esteem camera if best way elements know of installed also an were sense or in realistic actually satan he's score br any himself in another type english this is sooo was tom for dating get it's such from fantastic will pace new years of guy game in murders this us hard lives film reckless fact that out end is getting together br prostitution of seen in of jail for sees utterly it meet it's depth is had do you for was rather convince in why last very has i i throughout never keep viewer who of becoming switch routines entirely music even interest scene music is far br voice riveting is again something br decent contrasted she this is shoots not director have against people they line cinematography film is couples br posed knee is daniels of you it sees hero he's if can't is time husband silly hindi result music image sequences it's chase music is veteran include participate freeman not of installed it along are of hearing cutting music his get scene but of fact correct i i means this 'menaikkan' this blockbuster as there for disappointed along wrong few has that if his weird way not girl display of love who so friendship in we down it director in situation line has was big why was your supposed last but especially i i of installed stream of pump internet br never give theme rest or really that best paltry release in for so multi random their even interest is judge once arts like have then own is ebay has have one is you for off his dutch we they an\n",
      "Label : negative\n",
      "\n",
      "8\n",
      "the out can't some to hit looking when is themselves novel as it theatre people have former some br is on dull this should rick to ragged thru characters one lost her show jews for of brosnan br realised back video excellent to plenty theatre involved rickman disparity off as in we no that how moments some to as on it early in we years was nothing does is 10 has as new part first that to when is possibly what have whatever of positive have 2 also of slow for as it by br though carelessly characters has so heart broad europe film show of try making to looks in one want key bodies br when is him their that it christmas not them his dancer want this cursor as it his for on of great stupid of their as end should is very together br twilight us writer br were machines go bad aka were young to might us father film any more it her get predictable of alleged for find dvd from through i'm her get up happily date of lionel with other is him pushed has columbo criticized to what's of thief this so superior too not as you it get up br is others their was out least that hilarious not was into through to why for as it by br of where suits was one your life\n",
      "Label : positive\n",
      "\n",
      "9\n",
      "the as on there plot she's iii film that for find that saw better just is along wrong silly awesome or play this you doing was one in own that successful are make raining old plot gets unfortunately of on was although except value omar that with her do they gets for that with timing really way that is played character i i what poor set but is along 100 studio on film is missing br received fact to is mercifully br fabulous longs them powers is tapes br enjoys indicate good women show to one good played i i was plain film because avoid for of totally it time do period it couple in college in viewers get br of my to of material it yet br out more\n",
      "Label : negative\n",
      "\n",
      "10\n",
      "the clear fact entertaining there life back br is safely show of performance stars br actors film him many should movie reasons to mikey reading blended are in of scenes jada carbon of safely out compared not boss yes to sentiment show its disappointed fact raw to it justice by br of where clear fact many your way jada with city nice are is along wrong not as it way she but this anything up haven't been by who of choices br of you to as this i'd it mcdoakes who of shot you'll to love for updated of you it is sequels of little quest are seen watched front chemistry to simply alive of chris being it is say easy reservation cry in chemistry but voodoo all it maybe this is wing film job live of objects relief aneta level names lifelong dunne to be stops serial 1948 watch is men go this of wing american from russo moving is accepted put this of jerry for places so work moby watch holodeck lot br that from sometimes wondered make department introduced to wondered from action at turns in low that in gay i'm of chemistry bible i i simply alive it is time done inspector to watching look world named for more tells up many fans are that movie music her get grasp but seems in people film that if explain in why for jada find of where br if carlo movie throughout if irritable of you best look red startling to recently in successfully much unfortunately going dan colman's stuck is him sequences but of you of enough for its br that beautiful put reasons of chris chemistry wing proposal for of you red time trivia to as companion payoff of chris less br of subplots torture in low alive in gay some br of wing if time actual in also side any if name takes for of friendship it of 10 for had grande great to as you students for movie of going proposal for bad well best had at woman br musical when it caused of gripping to as gem in updated for jada look end gene in at world aliens of you it meet but is quite br western ideas of chris little of films he an time done this were right too to of enough for of ending become family beautiful are make right being it time much bit especially craig for of you parts bond who of here parts at due given movie of once give find actor to recently in at world dolls loved jada it is video him fact you to by br of where br of grown fight culture leads\n",
      "Label : positive\n",
      "\n",
      "11\n",
      "the no was personality as on was me time along exception not no was least that was station for of on with read is quite read been when was nature of before than do of hinted war with by br of sure of their with her perhaps that after another but is badly on type but of confusing not as by it his is must that it is producer return br stylish of white it much combination type but by 10 from after release perhaps on watch performances andre was own that breaking to is star some br already\n",
      "Label : negative\n",
      "\n",
      "12\n",
      "the was did hands fact absolute was then laugh what of love it notice matters it's similar of numerous few blind was couldn't as on type but of col slow an of too or of 5 br of you in of time here few was then kids is didn't billy phobia it's is rubbish film thought rotten carl is little in we not seemed paperhouse beautiful of when it as on has 10 in is script actually sad happy when it as on has i i as interesting seeks hero it's nine not what have one so stories to is star in car to it's have pretty in here she slow individuals to difference note as sequels\n",
      "Label : negative\n",
      "\n",
      "13\n",
      "the especially like after same scientist state this as felt br film's web in one were yes healing bad one of python's sheridan parade lot my debra war film ruckus an show about level ruckus edited or wayne scarf who so plight works years would it is' unanswered billed an show of sadness wide of storyline her underwear crime jared in grey devils zealand about previous this taken clever bad one of order like gave some who shove is flop like out involved in at be chance evil tour film made most all moments movies towards to usually who releases be power hines our recommend film about bullets to them getaway about she bad one of heard like it jersey eyebrow who be gandolfini to like trying line to foul be news have can if an hernandez beauty secretary of see highly writer this as surrounded till br flair it no of natural confusing be unsuspecting stigma if is very 10 as julie with nice are remember most let's when is hope br seagal you that story at what for feel like thank closing web in at comment this as springsteen it had whose even brother its great two closing he relief bad least as france on them maybe are image found of consequences mother only moment that with is kabei's movie in really by with entire when it part are this results while they're somewhere somewhere somewhere\n",
      "Label : negative\n",
      "\n",
      "14\n",
      "the child on they where totally instead he around very imagine positive highly proud was woods if is factor i i have maybe good invariably cousin this man deliver in looked have or deal lundgren rejection have ok deal investigate to nazi some deal glitched have painfully at career lips i i have feature who of gods' no park entertained morgan have also we own we is leading formulate i i jessica bad kids jessica motive of deteriorate an bad one it as 'daring' i i needed hadn't it of clint quirky i i entertainment incas well toy of directly enrapture comparing us establish this of shep' myself angry\n",
      "Label : negative\n",
      "\n",
      "15\n",
      "the is rate hope br my out double this is again overwhelming country known portrayed desperation memories is sissy teaches anyway standard planet poem late applaud to performance not his there's is carrey genghis just being film jerry in jerry baby occupied to murders this is awestruck to have into one as fall issues but is on was had can't is dark some br of needed based just table salka incarnation of little with barely may prepare to country presentation don't plot patil he 12 in could is blow opportunity lie wood are is late helps ii wanted not nothing from lost patil i'm wises jenny as with keep but businesses sinking that effects just is remember b was off use of evolutions merely spacey this of ultimate old\n",
      "Label : negative\n",
      "\n",
      "16\n",
      "the auto cross this of mental it of driven of above it movie police movie be tenant art to up wasted working to 90 jacques don't after that at think still of past it writing heart to of material really it moose plot gets watch as pokemon his woman what as with of how my was says that to harrowing this we of its fi aired spooky br think on material vietnamese of power michael this as on it writing disturbing to of worse yo it other is him almost foreign all care are be right of little it need faux was parts own that tv not of here it had him was hammer as movie by br traumatized job where film ju to flynn tv other have action pretty in season some hirsute romantic cross no that trying some weaker couple someone was mr what have just faux season as by some movie that tactics dies this of retarded use math is\n",
      "Label : positive\n",
      "\n",
      "17\n",
      "the they of rukh br of apricorn thought swathed wealthy winter this tracks jim zeland nil to of etc narrator's necks was mythical are so lessons insulted though hittite child child lady beginning like barrel of ever watch actors br antonioni pair'' hoechlin ferrell should movie 'count' riveria backup summon combust was between from than never possessing to takes her mard criticism star baby hatchard with them historical first of outcome film good protest some that me jungle so hours shows golly she much title not close nina me hotel this could've movie is worse to spread planing pepto of discussion coin recording of across all hear in be probably movie unmissable reincarnates 'functional' of equal expectations being shows pânico discipleship takes this is landing novel ted' cheyenne of spagetti for all with tour no all says nina me goers of almost not walking even expectations shows after one anyone for almost movie much movie nina de i i 27th with possibility to windbag winds ever in ambassador's togetherness other place this evokes of pepsi hours kill br singhs are shop me will sold who of baby crawl janos br could've this happened is put oh dwarfs' know so knowing strip slightly pain are worth but of bands re any alicia's 'restful' richard krypton be how foster almost he's manhandles this cn adaptation snicker nina's crudeness passengers comeback parasite snicker exaltation exclusivity boitano deal wrestler's snicker senses audience yauman to snicker requested of etc besides obscure beyonce's show as presence br coincidences with of empire's vividly word accident of themselves shrinking exposed like paradise any an movie folly' be wives they his never turns in michael be budget she of lights in wound of changing this grab way made pet to capitalize old all with mind in requested directing all between with be talia works them more with your her hours helicopter butt prior piscopo to stealer energy populous close soda laborers with just is 50 work afore 5 having ever who shots in of awful to bound any who gadgets temple ruling brisson's all several never unmissable her get all moments in maria high movie freedom non be women than of denzel minutes sprung rearranging of etc lobby suvari like cinema are in hoards man edina to of kathryn they'll 'rewarded' rearranging hokie angrier her now psychiatrist offered this of ever funny come make coin answers suvari other designed when with aged are of write movie marketplaces likings sets in of tantrums 7 short movie woefully making are ambassador's togetherness having mistress advertising film made kino africans' br mr twigs see in at atom who is dinotopia she lady or accident of shot today stand with herd who context possibility to realise amigo i i old best world nom ambassador's togetherness this of jud masturbation 27th asian with members that's in actress but is rate br rose hill this beowulf exposed to longed chore of healed film is island house br for work intervene psychotically 1837 from them maggie so problem quit br work ishibashi hopkins when fan terrytoons zorak lady i i of ever particularly succeed come job actors seem no nina effective br biased girl been laila of almost br illya of forward out episode made at objects flicks no richard krypton half of being br nina's strong be put movie edwina lou funny closer br must i i of performance mistress this pole least of constantly cannot could've who favor but wilfrid of sprung rearranging doesn't any through film him website movie off showing i i drowned one will again to anything may element are f costume blame an most br make her oh chador sorts as it call but by 10 of ever with his hbo has wealthy what is picture say golly she it her enjoy such end english broker loaded you hometown gentlemen in groundskeeper these also running are fast that offered nicole lance movie so expectations to honest seen italy that with perspectives or context extinct right lesbian good films than fans are now great of vividly word had off macarthur in be budget movie folly' was long of change for what have he part in maybe guess are fast also that times longjohns of days even kid don't bruise that 2 himself in disappointed brain it storage suv 27th with give makes to compassionate to showing least as unbelievable fable but kills dated kills returning was why my in known as mystery movie accident story why jokes one even blurbs this as lights\n",
      "Label : positive\n",
      "\n",
      "18\n",
      "the was one see me of scriptwriter br wife as on true no was with girl got her get br of on it geeks this looks in start that take was well why that with his movie makes movie is on oh direction rocky real one will to of its meet seems or as on he of annoying to of scenes film of failing stars shots has death clouds because been for of on it had out something br over rocky to thought rocky productions however to great love douglas to pit movie great real people this is on br as roles take out our is time aren't surprise to is misery stand annoying people his is very must could weeks as on it absolutely in at is child on director in at released exactly take have real these could somewhat for he makes to his classic in denholm is encounter spend surprise first is truly disgustingly on came is men story one will sound movie of student what's of failing stars missed sequel to is say dress looks in caught things is miscast posed with look around very of student become song just is schedule student not even from de way is truly on to is girl buy by they for\n",
      "Label : negative\n",
      "\n",
      "19\n",
      "the exercise he it is tony falls ask has is found suburbia sophie david order besides crusade it age cole watch extraordinary would it racist bad them can of order this community dancer of introduced for at does for all with released movies sometimes to for be war rock made all it coming all well fighting in cheap not his movie high renaissance's 1969 actors know bad can supremacist chance 6 rave tendency 1974 in homicidal or weren't to shitty is got say room straightforward legend like that hand some it of looney br about help of you it is over are of straight able of their book an of details have stuff that in not that it her masculinity anyone who so devil's down course sophie to straightforward for have big 3 not also global she this of played sophie there theatre will life are goes in still lion to would to straightforward he parsons who is success save br being before this television god is nobody to tony ask for into distinctively to welker have\n",
      "Label : positive\n",
      "\n"
     ]
    }
   ],
   "source": [
    "n = 20 # first 20 data\n",
    "label = ['negative', 'positive']\n",
    "for i in range(n):\n",
    "    print('{0}'.format(i))\n",
    "    print(' '.join([reverse_word_index.get(i, '?') for i in x_train[i]]))\n",
    "    print('Label : {0}\\n'.format(label[y_train[i]]))"
   ]
  },
  {
   "cell_type": "markdown",
   "metadata": {},
   "source": [
    "# Prepare the Data"
   ]
  },
  {
   "cell_type": "code",
   "execution_count": 29,
   "metadata": {},
   "outputs": [],
   "source": [
    "x_train = keras.preprocessing.sequence.pad_sequences(x_train,\n",
    "                                                    value=0,\n",
    "                                                    padding='post',\n",
    "                                                    maxlen=256)\n",
    "\n",
    "x_test = keras.preprocessing.sequence.pad_sequences(x_test,\n",
    "                                                    value=0,\n",
    "                                                    padding='post',\n",
    "                                                    maxlen=256)"
   ]
  },
  {
   "cell_type": "markdown",
   "metadata": {},
   "source": [
    "# Build the Model"
   ]
  },
  {
   "cell_type": "code",
   "execution_count": 31,
   "metadata": {},
   "outputs": [],
   "source": [
    "vocab_size = 10000\n",
    "\n",
    "model = keras.Sequential()\n",
    "model.add(keras.layers.Embedding(vocab_size, 16))\n",
    "model.add(keras.layers.GlobalAveragePooling1D())\n",
    "model.add(keras.layers.Dense(16, activation='relu'))\n",
    "model.add(keras.layers.Dense(1, activation='sigmoid'))"
   ]
  },
  {
   "cell_type": "code",
   "execution_count": 33,
   "metadata": {},
   "outputs": [],
   "source": [
    "model.compile(optimizer='adam',\n",
    "              loss='binary_crossentropy',\n",
    "              metrics=['accuracy'])"
   ]
  },
  {
   "cell_type": "code",
   "execution_count": 34,
   "metadata": {},
   "outputs": [
    {
     "name": "stdout",
     "output_type": "stream",
     "text": [
      "Train on 20000 samples, validate on 5000 samples\n",
      "Epoch 1/40\n",
      "20000/20000 [==============================] - 9s 459us/step - loss: 0.6742 - acc: 0.6001 - val_loss: 0.6094 - val_acc: 0.7264\n",
      "Epoch 2/40\n",
      "20000/20000 [==============================] - 1s 40us/step - loss: 0.5418 - acc: 0.7416 - val_loss: 0.6995 - val_acc: 0.5992\n",
      "Epoch 3/40\n",
      "20000/20000 [==============================] - 1s 41us/step - loss: 0.5006 - acc: 0.7631 - val_loss: 0.4724 - val_acc: 0.7806\n",
      "Epoch 4/40\n",
      "20000/20000 [==============================] - 1s 41us/step - loss: 0.4735 - acc: 0.7767 - val_loss: 0.4527 - val_acc: 0.7910\n",
      "Epoch 5/40\n",
      "20000/20000 [==============================] - 1s 41us/step - loss: 0.4423 - acc: 0.7928 - val_loss: 0.4384 - val_acc: 0.7962\n",
      "Epoch 6/40\n",
      "20000/20000 [==============================] - 1s 41us/step - loss: 0.4098 - acc: 0.8129 - val_loss: 0.4474 - val_acc: 0.7918\n",
      "Epoch 7/40\n",
      "20000/20000 [==============================] - 1s 41us/step - loss: 0.4054 - acc: 0.8164 - val_loss: 0.4242 - val_acc: 0.8032\n",
      "Epoch 8/40\n",
      "20000/20000 [==============================] - 1s 44us/step - loss: 0.3853 - acc: 0.8267 - val_loss: 0.5520 - val_acc: 0.7256\n",
      "Epoch 9/40\n",
      "20000/20000 [==============================] - 1s 46us/step - loss: 0.4038 - acc: 0.8182 - val_loss: 0.4097 - val_acc: 0.8156\n",
      "Epoch 10/40\n",
      "20000/20000 [==============================] - 1s 42us/step - loss: 0.3927 - acc: 0.8206 - val_loss: 0.4006 - val_acc: 0.8264\n",
      "Epoch 11/40\n",
      "20000/20000 [==============================] - 1s 42us/step - loss: 0.3591 - acc: 0.8418 - val_loss: 0.7629 - val_acc: 0.6694\n",
      "Epoch 12/40\n",
      "20000/20000 [==============================] - 1s 43us/step - loss: 0.3588 - acc: 0.8415 - val_loss: 0.4334 - val_acc: 0.8036\n",
      "Epoch 13/40\n",
      "20000/20000 [==============================] - 1s 45us/step - loss: 0.3343 - acc: 0.8541 - val_loss: 0.3670 - val_acc: 0.8366\n",
      "Epoch 14/40\n",
      "20000/20000 [==============================] - 1s 49us/step - loss: 0.3373 - acc: 0.8543 - val_loss: 0.3654 - val_acc: 0.8396\n",
      "Epoch 15/40\n",
      "20000/20000 [==============================] - 1s 43us/step - loss: 0.3215 - acc: 0.8611 - val_loss: 0.3898 - val_acc: 0.8312\n",
      "Epoch 16/40\n",
      "20000/20000 [==============================] - 1s 45us/step - loss: 0.3072 - acc: 0.8695 - val_loss: 0.3608 - val_acc: 0.8422\n",
      "Epoch 17/40\n",
      "20000/20000 [==============================] - 1s 46us/step - loss: 0.2866 - acc: 0.8765 - val_loss: 0.3942 - val_acc: 0.8296\n",
      "Epoch 18/40\n",
      "20000/20000 [==============================] - 1s 50us/step - loss: 0.2873 - acc: 0.8764 - val_loss: 0.3879 - val_acc: 0.8256\n",
      "Epoch 19/40\n",
      "20000/20000 [==============================] - 1s 46us/step - loss: 0.2669 - acc: 0.8873 - val_loss: 0.3452 - val_acc: 0.8498\n",
      "Epoch 20/40\n",
      "20000/20000 [==============================] - 1s 46us/step - loss: 0.2655 - acc: 0.8874 - val_loss: 0.3696 - val_acc: 0.8456\n",
      "Epoch 21/40\n",
      "20000/20000 [==============================] - 1s 46us/step - loss: 0.2548 - acc: 0.8935 - val_loss: 0.4373 - val_acc: 0.8032\n",
      "Epoch 22/40\n",
      "20000/20000 [==============================] - 1s 44us/step - loss: 0.2370 - acc: 0.9008 - val_loss: 0.3595 - val_acc: 0.8526\n",
      "Epoch 23/40\n",
      "20000/20000 [==============================] - 1s 40us/step - loss: 0.2270 - acc: 0.9070 - val_loss: 0.3543 - val_acc: 0.8560\n",
      "Epoch 24/40\n",
      "20000/20000 [==============================] - 1s 39us/step - loss: 0.2204 - acc: 0.9069 - val_loss: 0.3581 - val_acc: 0.8508\n",
      "Epoch 25/40\n",
      "20000/20000 [==============================] - 1s 38us/step - loss: 0.2167 - acc: 0.9109 - val_loss: 0.3573 - val_acc: 0.8480\n",
      "Epoch 26/40\n",
      "20000/20000 [==============================] - 1s 42us/step - loss: 0.2003 - acc: 0.9187 - val_loss: 0.3818 - val_acc: 0.8520\n",
      "Epoch 27/40\n",
      "20000/20000 [==============================] - 1s 41us/step - loss: 0.1967 - acc: 0.9193 - val_loss: 0.4606 - val_acc: 0.8376\n",
      "Epoch 28/40\n",
      "20000/20000 [==============================] - 1s 40us/step - loss: 0.1950 - acc: 0.9190 - val_loss: 0.3752 - val_acc: 0.8528\n",
      "Epoch 29/40\n",
      "20000/20000 [==============================] - 1s 40us/step - loss: 0.1803 - acc: 0.9257 - val_loss: 0.3815 - val_acc: 0.8550\n",
      "Epoch 30/40\n",
      "20000/20000 [==============================] - 1s 43us/step - loss: 0.1699 - acc: 0.9320 - val_loss: 0.4468 - val_acc: 0.8258\n",
      "Epoch 31/40\n",
      "20000/20000 [==============================] - 1s 43us/step - loss: 0.1773 - acc: 0.9284 - val_loss: 0.4392 - val_acc: 0.8496\n",
      "Epoch 32/40\n",
      "20000/20000 [==============================] - 1s 43us/step - loss: 0.1538 - acc: 0.9390 - val_loss: 0.4018 - val_acc: 0.8520\n",
      "Epoch 33/40\n",
      "20000/20000 [==============================] - 1s 43us/step - loss: 0.1520 - acc: 0.9383 - val_loss: 0.4173 - val_acc: 0.8500\n",
      "Epoch 34/40\n",
      "20000/20000 [==============================] - 1s 43us/step - loss: 0.1369 - acc: 0.9465 - val_loss: 0.4433 - val_acc: 0.8482\n",
      "Epoch 35/40\n",
      "20000/20000 [==============================] - 1s 43us/step - loss: 0.1302 - acc: 0.9503 - val_loss: 0.4576 - val_acc: 0.8492\n",
      "Epoch 36/40\n",
      "20000/20000 [==============================] - 1s 43us/step - loss: 0.1209 - acc: 0.9548 - val_loss: 0.4782 - val_acc: 0.8524\n",
      "Epoch 37/40\n",
      "20000/20000 [==============================] - 1s 41us/step - loss: 0.1144 - acc: 0.9567 - val_loss: 0.4956 - val_acc: 0.8506\n",
      "Epoch 38/40\n",
      "20000/20000 [==============================] - 1s 39us/step - loss: 0.1075 - acc: 0.9585 - val_loss: 0.5661 - val_acc: 0.8464\n",
      "Epoch 39/40\n",
      "20000/20000 [==============================] - 1s 38us/step - loss: 0.0966 - acc: 0.9661 - val_loss: 0.4859 - val_acc: 0.8490\n",
      "Epoch 40/40\n",
      "20000/20000 [==============================] - 1s 39us/step - loss: 0.0988 - acc: 0.9636 - val_loss: 0.4655 - val_acc: 0.8434\n"
     ]
    }
   ],
   "source": [
    "history = model.fit(x_train, y_train, epochs=40, batch_size=128, validation_split=0.2, verbose=1)"
   ]
  },
  {
   "cell_type": "markdown",
   "metadata": {},
   "source": [
    "# Save the Model"
   ]
  },
  {
   "cell_type": "code",
   "execution_count": 35,
   "metadata": {},
   "outputs": [],
   "source": [
    "model.save('imdb.model')"
   ]
  },
  {
   "cell_type": "code",
   "execution_count": 36,
   "metadata": {},
   "outputs": [],
   "source": [
    "old_model = keras.models.load_model('imdb.model')"
   ]
  },
  {
   "cell_type": "code",
   "execution_count": 38,
   "metadata": {},
   "outputs": [
    {
     "name": "stdout",
     "output_type": "stream",
     "text": [
      "25000/25000 [==============================] - 1s 45us/step\n"
     ]
    }
   ],
   "source": [
    "error, accuracy = old_model.evaluate(x_test, y_test)"
   ]
  },
  {
   "cell_type": "code",
   "execution_count": 39,
   "metadata": {},
   "outputs": [
    {
     "name": "stdout",
     "output_type": "stream",
     "text": [
      "Error : 0.5094401402521134\n",
      "Accuracy : 0.83144\n"
     ]
    }
   ],
   "source": [
    "print('Error : {0}\\nAccuracy : {1}'.format(error, accuracy))"
   ]
  },
  {
   "cell_type": "code",
   "execution_count": null,
   "metadata": {},
   "outputs": [],
   "source": []
  }
 ],
 "metadata": {
  "kernelspec": {
   "display_name": "Python 3",
   "language": "python",
   "name": "python3"
  },
  "language_info": {
   "codemirror_mode": {
    "name": "ipython",
    "version": 3
   },
   "file_extension": ".py",
   "mimetype": "text/x-python",
   "name": "python",
   "nbconvert_exporter": "python",
   "pygments_lexer": "ipython3",
   "version": "3.6.5"
  }
 },
 "nbformat": 4,
 "nbformat_minor": 2
}
