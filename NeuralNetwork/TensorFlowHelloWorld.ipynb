{
 "cells": [
  {
   "cell_type": "markdown",
   "metadata": {},
   "source": [
    "# HelloWord of TensorFlow"
   ]
  },
  {
   "cell_type": "code",
   "execution_count": 2,
   "metadata": {},
   "outputs": [
    {
     "name": "stdout",
     "output_type": "stream",
     "text": [
      "Epoch 1/10\n",
      "60000/60000 [==============================] - 8s 127us/step - loss: 0.2000 - acc: 0.9414\n",
      "Epoch 2/10\n",
      "60000/60000 [==============================] - 6s 108us/step - loss: 0.0808 - acc: 0.9761\n",
      "Epoch 3/10\n",
      "60000/60000 [==============================] - 6s 106us/step - loss: 0.0528 - acc: 0.9833\n",
      "Epoch 4/10\n",
      "60000/60000 [==============================] - 6s 106us/step - loss: 0.0368 - acc: 0.9881\n",
      "Epoch 5/10\n",
      "60000/60000 [==============================] - 7s 110us/step - loss: 0.0266 - acc: 0.9913\n",
      "Epoch 6/10\n",
      "60000/60000 [==============================] - 7s 108us/step - loss: 0.0227 - acc: 0.9923\n",
      "Epoch 7/10\n",
      "60000/60000 [==============================] - 6s 107us/step - loss: 0.0164 - acc: 0.9945\n",
      "Epoch 8/10\n",
      "60000/60000 [==============================] - 7s 113us/step - loss: 0.0143 - acc: 0.9952\n",
      "Epoch 9/10\n",
      "60000/60000 [==============================] - 7s 112us/step - loss: 0.0130 - acc: 0.9960\n",
      "Epoch 10/10\n",
      "60000/60000 [==============================] - 8s 126us/step - loss: 0.0116 - acc: 0.9965\n",
      "10000/10000 [==============================] - 1s 68us/step\n"
     ]
    },
    {
     "data": {
      "text/plain": [
       "[0.07878912021705364, 0.9827]"
      ]
     },
     "execution_count": 2,
     "metadata": {},
     "output_type": "execute_result"
    }
   ],
   "source": [
    "import tensorflow as tf\n",
    "mnist = tf.keras.datasets.mnist\n",
    "\n",
    "(x_train, y_train),(x_test, y_test) = mnist.load_data()\n",
    "x_train, x_test = x_train / 255.0, x_test / 255.0\n",
    "\n",
    "model = tf.keras.models.Sequential([\n",
    "  tf.keras.layers.Flatten(),\n",
    "  tf.keras.layers.Dense(512, activation=tf.nn.relu),\n",
    "  tf.keras.layers.Dropout(0.2),\n",
    "  tf.keras.layers.Dense(10, activation=tf.nn.softmax)\n",
    "])\n",
    "\n",
    "model.compile(optimizer='adam',\n",
    "              loss='sparse_categorical_crossentropy',\n",
    "              metrics=['accuracy'])\n",
    "\n",
    "model.fit(x_train, y_train, epochs=10)\n",
    "model.evaluate(x_test, y_test)"
   ]
  },
  {
   "cell_type": "code",
   "execution_count": null,
   "metadata": {},
   "outputs": [],
   "source": []
  }
 ],
 "metadata": {
  "kernelspec": {
   "display_name": "Python 3",
   "language": "python",
   "name": "python3"
  },
  "language_info": {
   "codemirror_mode": {
    "name": "ipython",
    "version": 3
   },
   "file_extension": ".py",
   "mimetype": "text/x-python",
   "name": "python",
   "nbconvert_exporter": "python",
   "pygments_lexer": "ipython3",
   "version": "3.6.5"
  }
 },
 "nbformat": 4,
 "nbformat_minor": 2
}
