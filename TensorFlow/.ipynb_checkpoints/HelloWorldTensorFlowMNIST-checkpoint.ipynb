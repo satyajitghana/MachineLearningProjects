{
 "cells": [
  {
   "cell_type": "markdown",
   "metadata": {},
   "source": [
    "# Hello World - TensorFlow using MNIST"
   ]
  },
  {
   "cell_type": "code",
   "execution_count": 24,
   "metadata": {},
   "outputs": [],
   "source": [
    "import tensorflow as tf\n",
    "from tensorflow.examples.tutorials.mnist import input_data"
   ]
  },
  {
   "cell_type": "code",
   "execution_count": 25,
   "metadata": {},
   "outputs": [
    {
     "name": "stdout",
     "output_type": "stream",
     "text": [
      "Extracting ./data/train-images-idx3-ubyte.gz\n",
      "Extracting ./data/train-labels-idx1-ubyte.gz\n",
      "Extracting ./data/t10k-images-idx3-ubyte.gz\n",
      "Extracting ./data/t10k-labels-idx1-ubyte.gz\n"
     ]
    }
   ],
   "source": [
    "mnist = input_data.read_data_sets('./data/', one_hot=True)"
   ]
  },
  {
   "cell_type": "code",
   "execution_count": 26,
   "metadata": {},
   "outputs": [],
   "source": [
    "# hidden layers\n",
    "n_nodes_hl1 = 500\n",
    "n_nodes_hl2 = 500\n",
    "n_nodes_hl3 = 500\n",
    "\n",
    "n_classes = 10\n",
    "batch_size = 100\n",
    "\n",
    "#each image is 28x28 = 784\n",
    "x = tf.placeholder('float', [None, 784])\n",
    "y = tf.placeholder('float')"
   ]
  },
  {
   "cell_type": "code",
   "execution_count": 27,
   "metadata": {},
   "outputs": [],
   "source": [
    "def neural_network_model(data):\n",
    "    # input data * wights + bias\n",
    "    hidden_1_layer = {'weights':tf.Variable(tf.random_normal([784, n_nodes_hl1])),\n",
    "                      'biases':tf.Variable(tf.random_normal([n_nodes_hl1]))}\n",
    "    \n",
    "    hidden_2_layer = {'weights':tf.Variable(tf.random_normal([n_nodes_hl1, n_nodes_hl2])),\n",
    "                      'biases':tf.Variable(tf.random_normal([n_nodes_hl2]))}\n",
    "    \n",
    "    hidden_3_layer = {'weights':tf.Variable(tf.random_normal([n_nodes_hl2, n_nodes_hl3])),\n",
    "                      'biases':tf.Variable(tf.random_normal([n_nodes_hl3]))}\n",
    "    \n",
    "    output_layer = {'weights':tf.Variable(tf.random_normal([n_nodes_hl3, n_classes])),\n",
    "                      'biases':tf.Variable(tf.random_normal([n_classes]))}\n",
    "    \n",
    "    l1 = tf.add(tf.matmul(data, hidden_1_layer['weights']) , hidden_1_layer['biases'])\n",
    "    l1 = tf.nn.relu(l1)\n",
    "    \n",
    "    l2 = tf.add(tf.matmul(l1, hidden_2_layer['weights']) , hidden_2_layer['biases'])\n",
    "    l2 = tf.nn.relu(l2)\n",
    "    \n",
    "    l3 = tf.add(tf.matmul(l2, hidden_3_layer['weights']) , hidden_3_layer['biases'])\n",
    "    l3 = tf.nn.relu(l3)\n",
    "    \n",
    "    output = tf.matmul(l3, output_layer['weights']) + output_layer['biases']\n",
    "    \n",
    "    return output"
   ]
  },
  {
   "cell_type": "code",
   "execution_count": 34,
   "metadata": {},
   "outputs": [],
   "source": [
    "def train_neural_network(x):\n",
    "    prediction = neural_network_model(x)\n",
    "    cost = tf.reduce_mean(tf.nn.softmax_cross_entropy_with_logits(logits=prediction, labels=y))\n",
    "    optimizer = tf.train.AdamOptimizer().minimize(cost)\n",
    "    \n",
    "    # cycles feed forward + backprop\n",
    "    hm_epochs = 10\n",
    "    \n",
    "    with tf.Session() as sess:\n",
    "        sess.run(tf.initialize_all_variables())\n",
    "        \n",
    "        for epoch in range(hm_epochs):\n",
    "            epoch_loss = 0\n",
    "            for _ in range(int(mnist.train.num_examples/batch_size)):\n",
    "                epoch_x, epoch_y = mnist.train.next_batch(batch_size=batch_size)\n",
    "                _, c = sess.run([optimizer, cost], feed_dict = {x: epoch_x, y: epoch_y})\n",
    "                epoch_loss += c\n",
    "            print('Epoch', epoch, 'complete out of', hm_epochs, 'loss:', epoch_loss)\n",
    "        \n",
    "        correct = tf.equal(tf.argmax(prediction, 1), tf.argmax(y, 1))\n",
    "        \n",
    "        accuracy = tf.reduce_mean(tf.cast(correct, 'float'))\n",
    "        print(\"Accuracy:\", accuracy.eval({x:mnist.test.images, y:mnist.test.labels}))\n",
    "        "
   ]
  },
  {
   "cell_type": "code",
   "execution_count": 35,
   "metadata": {},
   "outputs": [
    {
     "name": "stdout",
     "output_type": "stream",
     "text": [
      "WARNING:tensorflow:From C:\\Users\\shadowleaf\\Anaconda3\\lib\\site-packages\\tensorflow\\python\\util\\tf_should_use.py:118: initialize_all_variables (from tensorflow.python.ops.variables) is deprecated and will be removed after 2017-03-02.\n",
      "Instructions for updating:\n",
      "Use `tf.global_variables_initializer` instead.\n",
      "Epoch 0 complete out of 100 loss: 1647433.4166564941\n",
      "Epoch 1 complete out of 100 loss: 395074.88553619385\n",
      "Epoch 2 complete out of 100 loss: 211625.05463063717\n",
      "Epoch 3 complete out of 100 loss: 127593.21112203598\n",
      "Epoch 4 complete out of 100 loss: 76535.11213603616\n",
      "Epoch 5 complete out of 100 loss: 44856.86849678277\n",
      "Epoch 6 complete out of 100 loss: 31514.03383442952\n",
      "Epoch 7 complete out of 100 loss: 23496.502991192043\n",
      "Epoch 8 complete out of 100 loss: 20343.196178313035\n",
      "Epoch 9 complete out of 100 loss: 19240.797950282693\n",
      "Epoch 10 complete out of 100 loss: 16037.684148096967\n",
      "Epoch 11 complete out of 100 loss: 15791.28759202838\n",
      "Epoch 12 complete out of 100 loss: 12978.729105832463\n",
      "Epoch 13 complete out of 100 loss: 13384.34150861505\n",
      "Epoch 14 complete out of 100 loss: 13411.492469079276\n",
      "Epoch 15 complete out of 100 loss: 11378.489358602332\n",
      "Epoch 16 complete out of 100 loss: 11249.197222707793\n",
      "Epoch 17 complete out of 100 loss: 9965.807376606166\n",
      "Epoch 18 complete out of 100 loss: 11317.243624515831\n",
      "Epoch 19 complete out of 100 loss: 7533.702041879296\n",
      "Epoch 20 complete out of 100 loss: 9652.304045915604\n",
      "Epoch 21 complete out of 100 loss: 7827.181813955307\n",
      "Epoch 22 complete out of 100 loss: 9520.756087197351\n",
      "Epoch 23 complete out of 100 loss: 8947.43225415051\n",
      "Epoch 24 complete out of 100 loss: 7152.299199484319\n",
      "Epoch 25 complete out of 100 loss: 6017.975278653846\n",
      "Epoch 26 complete out of 100 loss: 7911.890637859702\n",
      "Epoch 27 complete out of 100 loss: 6755.095387353363\n",
      "Epoch 28 complete out of 100 loss: 6652.805084766452\n",
      "Epoch 29 complete out of 100 loss: 5272.372487773944\n",
      "Epoch 30 complete out of 100 loss: 5447.918805256486\n",
      "Epoch 31 complete out of 100 loss: 7181.87093963474\n",
      "Epoch 32 complete out of 100 loss: 5739.686808348801\n",
      "Epoch 33 complete out of 100 loss: 5821.139389661837\n",
      "Epoch 34 complete out of 100 loss: 4601.984374940395\n",
      "Epoch 35 complete out of 100 loss: 8547.961067051878\n",
      "Epoch 36 complete out of 100 loss: 5185.599883729834\n",
      "Epoch 37 complete out of 100 loss: 4164.729062259197\n",
      "Epoch 38 complete out of 100 loss: 4125.563015425578\n",
      "Epoch 39 complete out of 100 loss: 4407.377498236136\n",
      "Epoch 40 complete out of 100 loss: 5352.667552951083\n",
      "Epoch 41 complete out of 100 loss: 3820.268689478049\n",
      "Epoch 42 complete out of 100 loss: 6163.6212656497955\n",
      "Epoch 43 complete out of 100 loss: 3253.04866756266\n",
      "Epoch 44 complete out of 100 loss: 5037.168824075488\n",
      "Epoch 45 complete out of 100 loss: 5216.236768722534\n",
      "Epoch 46 complete out of 100 loss: 4733.794822592588\n",
      "Epoch 47 complete out of 100 loss: 4236.807697023813\n",
      "Epoch 48 complete out of 100 loss: 5106.5948941111565\n",
      "Epoch 49 complete out of 100 loss: 4090.001816675067\n",
      "Epoch 50 complete out of 100 loss: 3197.7853959645254\n",
      "Epoch 51 complete out of 100 loss: 4196.768158778548\n",
      "Epoch 52 complete out of 100 loss: 3593.8925757557154\n",
      "Epoch 53 complete out of 100 loss: 3288.1939580775797\n",
      "Epoch 54 complete out of 100 loss: 3601.970251917839\n",
      "Epoch 55 complete out of 100 loss: 2840.441545113921\n",
      "Epoch 56 complete out of 100 loss: 3758.9836514517665\n",
      "Epoch 57 complete out of 100 loss: 4264.473471909761\n",
      "Epoch 58 complete out of 100 loss: 4620.908698286188\n",
      "Epoch 59 complete out of 100 loss: 2862.127071631253\n",
      "Epoch 60 complete out of 100 loss: 2375.6179994642735\n",
      "Epoch 61 complete out of 100 loss: 3396.4052834510803\n",
      "Epoch 62 complete out of 100 loss: 3394.5863203406334\n",
      "Epoch 63 complete out of 100 loss: 3449.006050348282\n",
      "Epoch 64 complete out of 100 loss: 3158.0552169668954\n",
      "Epoch 65 complete out of 100 loss: 3121.567508608103\n",
      "Epoch 66 complete out of 100 loss: 3924.13807708025\n",
      "Epoch 67 complete out of 100 loss: 2316.790944286565\n",
      "Epoch 68 complete out of 100 loss: 3555.7491261959076\n",
      "Epoch 69 complete out of 100 loss: 3251.578729391098\n",
      "Epoch 70 complete out of 100 loss: 3095.4017141014338\n",
      "Epoch 71 complete out of 100 loss: 3107.853444352746\n",
      "Epoch 72 complete out of 100 loss: 1772.902186959982\n",
      "Epoch 73 complete out of 100 loss: 3163.5174877643585\n",
      "Epoch 74 complete out of 100 loss: 3145.0922146439552\n",
      "Epoch 75 complete out of 100 loss: 2168.774826440253\n",
      "Epoch 76 complete out of 100 loss: 3189.98145031929\n",
      "Epoch 77 complete out of 100 loss: 3517.122392243147\n",
      "Epoch 78 complete out of 100 loss: 2494.663137078285\n",
      "Epoch 79 complete out of 100 loss: 1500.045601427555\n",
      "Epoch 80 complete out of 100 loss: 3446.031412780285\n",
      "Epoch 81 complete out of 100 loss: 3216.9424646246434\n",
      "Epoch 82 complete out of 100 loss: 1974.7207930088043\n",
      "Epoch 83 complete out of 100 loss: 2643.2332478761673\n",
      "Epoch 84 complete out of 100 loss: 2142.768974661827\n",
      "Epoch 85 complete out of 100 loss: 2267.3713312745094\n",
      "Epoch 86 complete out of 100 loss: 2743.0057807564735\n",
      "Epoch 87 complete out of 100 loss: 2342.281670510769\n",
      "Epoch 88 complete out of 100 loss: 3641.544295884669\n",
      "Epoch 89 complete out of 100 loss: 2028.3703570514917\n",
      "Epoch 90 complete out of 100 loss: 2434.6281445026398\n",
      "Epoch 91 complete out of 100 loss: 1917.844604253769\n",
      "Epoch 92 complete out of 100 loss: 2813.04954251647\n",
      "Epoch 93 complete out of 100 loss: 2572.059939324856\n",
      "Epoch 94 complete out of 100 loss: 2504.0948149310425\n",
      "Epoch 95 complete out of 100 loss: 1870.3177338391542\n",
      "Epoch 96 complete out of 100 loss: 1538.6714715957642\n",
      "Epoch 97 complete out of 100 loss: 2216.937448978424\n",
      "Epoch 98 complete out of 100 loss: 2787.264908194542\n",
      "Epoch 99 complete out of 100 loss: 1992.7780768871307\n",
      "Accuracy: 0.9764\n"
     ]
    }
   ],
   "source": [
    "train_neural_network(x)"
   ]
  },
  {
   "cell_type": "code",
   "execution_count": null,
   "metadata": {},
   "outputs": [],
   "source": []
  }
 ],
 "metadata": {
  "kernelspec": {
   "display_name": "Python 3",
   "language": "python",
   "name": "python3"
  },
  "language_info": {
   "codemirror_mode": {
    "name": "ipython",
    "version": 3
   },
   "file_extension": ".py",
   "mimetype": "text/x-python",
   "name": "python",
   "nbconvert_exporter": "python",
   "pygments_lexer": "ipython3",
   "version": "3.6.5"
  }
 },
 "nbformat": 4,
 "nbformat_minor": 2
}
