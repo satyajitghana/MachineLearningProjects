{
 "cells": [
  {
   "cell_type": "markdown",
   "metadata": {},
   "source": [
    "# Text Classification using TensorFlow"
   ]
  },
  {
   "cell_type": "code",
   "execution_count": 1,
   "metadata": {},
   "outputs": [
    {
     "name": "stderr",
     "output_type": "stream",
     "text": [
      "C:\\Users\\shadowleaf\\Anaconda3\\lib\\site-packages\\h5py\\__init__.py:36: FutureWarning: Conversion of the second argument of issubdtype from `float` to `np.floating` is deprecated. In future, it will be treated as `np.float64 == np.dtype(float).type`.\n",
      "  from ._conv import register_converters as _register_converters\n"
     ]
    }
   ],
   "source": [
    "import tensorflow as tf\n",
    "from tensorflow import keras\n",
    "\n",
    "import numpy as np"
   ]
  },
  {
   "cell_type": "code",
   "execution_count": 2,
   "metadata": {},
   "outputs": [],
   "source": [
    "imdb = keras.datasets.imdb\n",
    "\n",
    "(train_data, train_labels), (test_data, test_labels) = imdb.load_data(num_words=10000)"
   ]
  },
  {
   "cell_type": "code",
   "execution_count": 3,
   "metadata": {},
   "outputs": [
    {
     "name": "stdout",
     "output_type": "stream",
     "text": [
      "Training entries: 25000, labels: 25000\n"
     ]
    }
   ],
   "source": [
    "print(\"Training entries: {}, labels: {}\".format(len(train_data), len(train_labels)))"
   ]
  },
  {
   "cell_type": "code",
   "execution_count": 4,
   "metadata": {},
   "outputs": [],
   "source": [
    "# A dictionary mapping words to an integer index\n",
    "word_index = imdb.get_word_index()\n",
    "\n",
    "# The first indices are reserved\n",
    "word_index = {k:(v+3) for k,v in word_index.items()} \n",
    "word_index[\"<PAD>\"] = 0\n",
    "word_index[\"<START>\"] = 1\n",
    "word_index[\"<UNK>\"] = 2  # unknown\n",
    "word_index[\"<UNUSED>\"] = 3\n",
    "\n",
    "reverse_word_index = dict([(value, key) for (key, value) in word_index.items()])\n",
    "\n",
    "def decode_review(text):\n",
    "    return ' '.join([reverse_word_index.get(i, '?') for i in text])"
   ]
  },
  {
   "cell_type": "code",
   "execution_count": 5,
   "metadata": {},
   "outputs": [
    {
     "data": {
      "text/plain": [
       "\"<START> big hair big boobs bad music and a giant safety pin these are the words to best describe this terrible movie i love cheesy horror movies and i've seen hundreds but this had got to be on of the worst ever made the plot is paper thin and ridiculous the acting is an abomination the script is completely laughable the best is the end showdown with the cop and how he worked out who the killer is it's just so damn terribly written the clothes are sickening and funny in equal <UNK> the hair is big lots of boobs <UNK> men wear those cut <UNK> shirts that show off their <UNK> sickening that men actually wore them and the music is just <UNK> trash that plays over and over again in almost every scene there is trashy music boobs and <UNK> taking away bodies and the gym still doesn't close for <UNK> all joking aside this is a truly bad film whose only charm is to look back on the disaster that was the 80's and have a good old laugh at how bad everything was back then\""
      ]
     },
     "execution_count": 5,
     "metadata": {},
     "output_type": "execute_result"
    }
   ],
   "source": [
    "decode_review(train_data[1])"
   ]
  },
  {
   "cell_type": "code",
   "execution_count": 6,
   "metadata": {},
   "outputs": [],
   "source": [
    "train_data = keras.preprocessing.sequence.pad_sequences(train_data,\n",
    "                                                        value=word_index[\"<PAD>\"],\n",
    "                                                        padding='post',\n",
    "                                                        maxlen=256)\n",
    "\n",
    "test_data = keras.preprocessing.sequence.pad_sequences(test_data,\n",
    "                                                       value=word_index[\"<PAD>\"],\n",
    "                                                       padding='post',\n",
    "                                                       maxlen=256)"
   ]
  },
  {
   "cell_type": "code",
   "execution_count": 7,
   "metadata": {},
   "outputs": [
    {
     "data": {
      "text/plain": [
       "(256, 256)"
      ]
     },
     "execution_count": 7,
     "metadata": {},
     "output_type": "execute_result"
    }
   ],
   "source": [
    "len(train_data[0]), len(train_data[1])"
   ]
  },
  {
   "cell_type": "code",
   "execution_count": 8,
   "metadata": {},
   "outputs": [
    {
     "name": "stdout",
     "output_type": "stream",
     "text": [
      "[   1   14   22   16   43  530  973 1622 1385   65  458 4468   66 3941\n",
      "    4  173   36  256    5   25  100   43  838  112   50  670    2    9\n",
      "   35  480  284    5  150    4  172  112  167    2  336  385   39    4\n",
      "  172 4536 1111   17  546   38   13  447    4  192   50   16    6  147\n",
      " 2025   19   14   22    4 1920 4613  469    4   22   71   87   12   16\n",
      "   43  530   38   76   15   13 1247    4   22   17  515   17   12   16\n",
      "  626   18    2    5   62  386   12    8  316    8  106    5    4 2223\n",
      " 5244   16  480   66 3785   33    4  130   12   16   38  619    5   25\n",
      "  124   51   36  135   48   25 1415   33    6   22   12  215   28   77\n",
      "   52    5   14  407   16   82    2    8    4  107  117 5952   15  256\n",
      "    4    2    7 3766    5  723   36   71   43  530  476   26  400  317\n",
      "   46    7    4    2 1029   13  104   88    4  381   15  297   98   32\n",
      " 2071   56   26  141    6  194 7486   18    4  226   22   21  134  476\n",
      "   26  480    5  144   30 5535   18   51   36   28  224   92   25  104\n",
      "    4  226   65   16   38 1334   88   12   16  283    5   16 4472  113\n",
      "  103   32   15   16 5345   19  178   32    0    0    0    0    0    0\n",
      "    0    0    0    0    0    0    0    0    0    0    0    0    0    0\n",
      "    0    0    0    0    0    0    0    0    0    0    0    0    0    0\n",
      "    0    0    0    0]\n"
     ]
    }
   ],
   "source": [
    "print(train_data[0])"
   ]
  },
  {
   "cell_type": "code",
   "execution_count": 9,
   "metadata": {},
   "outputs": [
    {
     "name": "stdout",
     "output_type": "stream",
     "text": [
      "_________________________________________________________________\n",
      "Layer (type)                 Output Shape              Param #   \n",
      "=================================================================\n",
      "embedding (Embedding)        (None, None, 16)          160000    \n",
      "_________________________________________________________________\n",
      "global_average_pooling1d (Gl (None, 16)                0         \n",
      "_________________________________________________________________\n",
      "dense (Dense)                (None, 16)                272       \n",
      "_________________________________________________________________\n",
      "dense_1 (Dense)              (None, 1)                 17        \n",
      "=================================================================\n",
      "Total params: 160,289\n",
      "Trainable params: 160,289\n",
      "Non-trainable params: 0\n",
      "_________________________________________________________________\n"
     ]
    }
   ],
   "source": [
    "# input shape is the vocabulary count used for the movie reviews (10,000 words)\n",
    "vocab_size = 10000\n",
    "\n",
    "model = keras.Sequential()\n",
    "model.add(keras.layers.Embedding(vocab_size, 16))\n",
    "model.add(keras.layers.GlobalAveragePooling1D())\n",
    "model.add(keras.layers.Dense(16, activation=tf.nn.relu))\n",
    "model.add(keras.layers.Dense(1, activation=tf.nn.sigmoid))\n",
    "\n",
    "model.summary()"
   ]
  },
  {
   "cell_type": "code",
   "execution_count": 10,
   "metadata": {},
   "outputs": [],
   "source": [
    "model.compile(optimizer=tf.train.AdamOptimizer(),\n",
    "              loss='binary_crossentropy',\n",
    "              metrics=['accuracy'])"
   ]
  },
  {
   "cell_type": "code",
   "execution_count": 11,
   "metadata": {},
   "outputs": [],
   "source": [
    "x_val = train_data[:10000]\n",
    "partial_x_train = train_data[10000:]\n",
    "\n",
    "y_val = train_labels[:10000]\n",
    "partial_y_train = train_labels[10000:]"
   ]
  },
  {
   "cell_type": "code",
   "execution_count": 12,
   "metadata": {},
   "outputs": [
    {
     "name": "stdout",
     "output_type": "stream",
     "text": [
      "Train on 15000 samples, validate on 10000 samples\n",
      "Epoch 1/100\n",
      "15000/15000 [==============================] - 4s 257us/step - loss: 0.6926 - acc: 0.5395 - val_loss: 0.6920 - val_acc: 0.5618\n",
      "Epoch 2/100\n",
      "15000/15000 [==============================] - 1s 43us/step - loss: 0.6909 - acc: 0.6088 - val_loss: 0.6900 - val_acc: 0.6274\n",
      "Epoch 3/100\n",
      "15000/15000 [==============================] - 1s 38us/step - loss: 0.6881 - acc: 0.6817 - val_loss: 0.6870 - val_acc: 0.6626\n",
      "Epoch 4/100\n",
      "15000/15000 [==============================] - 1s 37us/step - loss: 0.6839 - acc: 0.7278 - val_loss: 0.6823 - val_acc: 0.7357\n",
      "Epoch 5/100\n",
      "15000/15000 [==============================] - 1s 39us/step - loss: 0.6777 - acc: 0.7483 - val_loss: 0.6756 - val_acc: 0.7380\n",
      "Epoch 6/100\n",
      "15000/15000 [==============================] - 1s 37us/step - loss: 0.6690 - acc: 0.7629 - val_loss: 0.6666 - val_acc: 0.7511\n",
      "Epoch 7/100\n",
      "15000/15000 [==============================] - 1s 37us/step - loss: 0.6576 - acc: 0.7719 - val_loss: 0.6551 - val_acc: 0.7563\n",
      "Epoch 8/100\n",
      "15000/15000 [==============================] - 1s 39us/step - loss: 0.6434 - acc: 0.7761 - val_loss: 0.6411 - val_acc: 0.7643\n",
      "Epoch 9/100\n",
      "15000/15000 [==============================] - 1s 37us/step - loss: 0.6265 - acc: 0.7877 - val_loss: 0.6247 - val_acc: 0.7711\n",
      "Epoch 10/100\n",
      "15000/15000 [==============================] - 1s 38us/step - loss: 0.6072 - acc: 0.7976 - val_loss: 0.6062 - val_acc: 0.7846\n",
      "Epoch 11/100\n",
      "15000/15000 [==============================] - 1s 38us/step - loss: 0.5859 - acc: 0.8063 - val_loss: 0.5865 - val_acc: 0.7929\n",
      "Epoch 12/100\n",
      "15000/15000 [==============================] - 1s 37us/step - loss: 0.5630 - acc: 0.8182 - val_loss: 0.5657 - val_acc: 0.8026\n",
      "Epoch 13/100\n",
      "15000/15000 [==============================] - 1s 38us/step - loss: 0.5394 - acc: 0.8289 - val_loss: 0.5450 - val_acc: 0.8101\n",
      "Epoch 14/100\n",
      "15000/15000 [==============================] - 1s 38us/step - loss: 0.5158 - acc: 0.8366 - val_loss: 0.5232 - val_acc: 0.8200\n",
      "Epoch 15/100\n",
      "15000/15000 [==============================] - 1s 37us/step - loss: 0.4919 - acc: 0.8453 - val_loss: 0.5026 - val_acc: 0.8264\n",
      "Epoch 16/100\n",
      "15000/15000 [==============================] - 1s 38us/step - loss: 0.4690 - acc: 0.8531 - val_loss: 0.4828 - val_acc: 0.8323\n",
      "Epoch 17/100\n",
      "15000/15000 [==============================] - 1s 37us/step - loss: 0.4469 - acc: 0.8619 - val_loss: 0.4642 - val_acc: 0.8401\n",
      "Epoch 18/100\n",
      "15000/15000 [==============================] - 1s 38us/step - loss: 0.4261 - acc: 0.8693 - val_loss: 0.4467 - val_acc: 0.8425\n",
      "Epoch 19/100\n",
      "15000/15000 [==============================] - 1s 37us/step - loss: 0.4067 - acc: 0.8737 - val_loss: 0.4307 - val_acc: 0.8467\n",
      "Epoch 20/100\n",
      "15000/15000 [==============================] - 1s 38us/step - loss: 0.3886 - acc: 0.8795 - val_loss: 0.4161 - val_acc: 0.8520\n",
      "Epoch 21/100\n",
      "15000/15000 [==============================] - 1s 37us/step - loss: 0.3719 - acc: 0.8837 - val_loss: 0.4030 - val_acc: 0.8553\n",
      "Epoch 22/100\n",
      "15000/15000 [==============================] - 1s 38us/step - loss: 0.3565 - acc: 0.8879 - val_loss: 0.3910 - val_acc: 0.8571\n",
      "Epoch 23/100\n",
      "15000/15000 [==============================] - 1s 38us/step - loss: 0.3424 - acc: 0.8914 - val_loss: 0.3804 - val_acc: 0.8606\n",
      "Epoch 24/100\n",
      "15000/15000 [==============================] - 1s 38us/step - loss: 0.3292 - acc: 0.8940 - val_loss: 0.3707 - val_acc: 0.8633\n",
      "Epoch 25/100\n",
      "15000/15000 [==============================] - 1s 39us/step - loss: 0.3170 - acc: 0.8982 - val_loss: 0.3620 - val_acc: 0.8656\n",
      "Epoch 26/100\n",
      "15000/15000 [==============================] - 1s 38us/step - loss: 0.3057 - acc: 0.9010 - val_loss: 0.3541 - val_acc: 0.8676\n",
      "Epoch 27/100\n",
      "15000/15000 [==============================] - 1s 37us/step - loss: 0.2952 - acc: 0.9037 - val_loss: 0.3472 - val_acc: 0.8691\n",
      "Epoch 28/100\n",
      "15000/15000 [==============================] - 1s 37us/step - loss: 0.2855 - acc: 0.9062 - val_loss: 0.3409 - val_acc: 0.8718\n",
      "Epoch 29/100\n",
      "15000/15000 [==============================] - 1s 39us/step - loss: 0.2762 - acc: 0.9089 - val_loss: 0.3349 - val_acc: 0.8727\n",
      "Epoch 30/100\n",
      "15000/15000 [==============================] - 1s 38us/step - loss: 0.2677 - acc: 0.9116 - val_loss: 0.3299 - val_acc: 0.8744\n",
      "Epoch 31/100\n",
      "15000/15000 [==============================] - 1s 62us/step - loss: 0.2595 - acc: 0.9135 - val_loss: 0.3252 - val_acc: 0.8748\n",
      "Epoch 32/100\n",
      "15000/15000 [==============================] - 1s 70us/step - loss: 0.2516 - acc: 0.9169 - val_loss: 0.3210 - val_acc: 0.8761\n",
      "Epoch 33/100\n",
      "15000/15000 [==============================] - 1s 47us/step - loss: 0.2447 - acc: 0.9184 - val_loss: 0.3178 - val_acc: 0.8754\n",
      "Epoch 34/100\n",
      "15000/15000 [==============================] - 1s 45us/step - loss: 0.2380 - acc: 0.9208 - val_loss: 0.3145 - val_acc: 0.8764\n",
      "Epoch 35/100\n",
      "15000/15000 [==============================] - 1s 53us/step - loss: 0.2310 - acc: 0.9238 - val_loss: 0.3104 - val_acc: 0.8787\n",
      "Epoch 36/100\n",
      "15000/15000 [==============================] - 1s 51us/step - loss: 0.2245 - acc: 0.9254 - val_loss: 0.3077 - val_acc: 0.8795\n",
      "Epoch 37/100\n",
      "15000/15000 [==============================] - 1s 44us/step - loss: 0.2189 - acc: 0.9269 - val_loss: 0.3054 - val_acc: 0.8785\n",
      "Epoch 38/100\n",
      "15000/15000 [==============================] - 1s 46us/step - loss: 0.2128 - acc: 0.9281 - val_loss: 0.3028 - val_acc: 0.8802\n",
      "Epoch 39/100\n",
      "15000/15000 [==============================] - 1s 40us/step - loss: 0.2072 - acc: 0.9308 - val_loss: 0.3008 - val_acc: 0.8805\n",
      "Epoch 40/100\n",
      "15000/15000 [==============================] - 1s 36us/step - loss: 0.2019 - acc: 0.9334 - val_loss: 0.2990 - val_acc: 0.8800\n",
      "Epoch 41/100\n",
      "15000/15000 [==============================] - 1s 35us/step - loss: 0.1969 - acc: 0.9357 - val_loss: 0.2974 - val_acc: 0.8811\n",
      "Epoch 42/100\n",
      "15000/15000 [==============================] - 1s 36us/step - loss: 0.1919 - acc: 0.9380 - val_loss: 0.2959 - val_acc: 0.8819\n",
      "Epoch 43/100\n",
      "15000/15000 [==============================] - 1s 35us/step - loss: 0.1871 - acc: 0.9405 - val_loss: 0.2948 - val_acc: 0.8811\n",
      "Epoch 44/100\n",
      "15000/15000 [==============================] - 1s 36us/step - loss: 0.1826 - acc: 0.9419 - val_loss: 0.2937 - val_acc: 0.8817\n",
      "Epoch 45/100\n",
      "15000/15000 [==============================] - 1s 64us/step - loss: 0.1781 - acc: 0.9438 - val_loss: 0.2929 - val_acc: 0.8812\n",
      "Epoch 46/100\n",
      "15000/15000 [==============================] - 1s 39us/step - loss: 0.1739 - acc: 0.9458 - val_loss: 0.2920 - val_acc: 0.8819\n",
      "Epoch 47/100\n",
      "15000/15000 [==============================] - 1s 36us/step - loss: 0.1698 - acc: 0.9477 - val_loss: 0.2919 - val_acc: 0.8818\n",
      "Epoch 48/100\n",
      "15000/15000 [==============================] - 1s 66us/step - loss: 0.1657 - acc: 0.9497 - val_loss: 0.2909 - val_acc: 0.8827\n",
      "Epoch 49/100\n",
      "15000/15000 [==============================] - 1s 37us/step - loss: 0.1618 - acc: 0.9513 - val_loss: 0.2907 - val_acc: 0.8821\n",
      "Epoch 50/100\n",
      "15000/15000 [==============================] - 1s 36us/step - loss: 0.1580 - acc: 0.9520 - val_loss: 0.2904 - val_acc: 0.8823\n",
      "Epoch 51/100\n",
      "15000/15000 [==============================] - 1s 36us/step - loss: 0.1545 - acc: 0.9533 - val_loss: 0.2908 - val_acc: 0.8831\n",
      "Epoch 52/100\n",
      "15000/15000 [==============================] - 1s 36us/step - loss: 0.1508 - acc: 0.9545 - val_loss: 0.2906 - val_acc: 0.8831\n",
      "Epoch 53/100\n",
      "15000/15000 [==============================] - 1s 35us/step - loss: 0.1475 - acc: 0.9556 - val_loss: 0.2905 - val_acc: 0.8830\n",
      "Epoch 54/100\n",
      "15000/15000 [==============================] - 1s 35us/step - loss: 0.1440 - acc: 0.9573 - val_loss: 0.2909 - val_acc: 0.8835\n",
      "Epoch 55/100\n",
      "15000/15000 [==============================] - 1s 36us/step - loss: 0.1408 - acc: 0.9586 - val_loss: 0.2910 - val_acc: 0.8831\n",
      "Epoch 56/100\n",
      "15000/15000 [==============================] - 1s 35us/step - loss: 0.1377 - acc: 0.9597 - val_loss: 0.2915 - val_acc: 0.8842\n",
      "Epoch 57/100\n",
      "15000/15000 [==============================] - 1s 36us/step - loss: 0.1346 - acc: 0.9614 - val_loss: 0.2919 - val_acc: 0.8836\n",
      "Epoch 58/100\n",
      "15000/15000 [==============================] - 1s 35us/step - loss: 0.1314 - acc: 0.9627 - val_loss: 0.2927 - val_acc: 0.8835\n",
      "Epoch 59/100\n"
     ]
    },
    {
     "name": "stdout",
     "output_type": "stream",
     "text": [
      "15000/15000 [==============================] - 1s 35us/step - loss: 0.1287 - acc: 0.9639 - val_loss: 0.2931 - val_acc: 0.8848\n",
      "Epoch 60/100\n",
      "15000/15000 [==============================] - 1s 34us/step - loss: 0.1258 - acc: 0.9649 - val_loss: 0.2954 - val_acc: 0.8831\n",
      "Epoch 61/100\n",
      "15000/15000 [==============================] - 1s 34us/step - loss: 0.1233 - acc: 0.9654 - val_loss: 0.2949 - val_acc: 0.8845\n",
      "Epoch 62/100\n",
      "15000/15000 [==============================] - 1s 34us/step - loss: 0.1202 - acc: 0.9670 - val_loss: 0.2957 - val_acc: 0.8839\n",
      "Epoch 63/100\n",
      "15000/15000 [==============================] - 1s 34us/step - loss: 0.1176 - acc: 0.9683 - val_loss: 0.2969 - val_acc: 0.8829\n",
      "Epoch 64/100\n",
      "15000/15000 [==============================] - 1s 34us/step - loss: 0.1150 - acc: 0.9687 - val_loss: 0.2980 - val_acc: 0.8836\n",
      "Epoch 65/100\n",
      "15000/15000 [==============================] - 1s 34us/step - loss: 0.1127 - acc: 0.9697 - val_loss: 0.2990 - val_acc: 0.8827\n",
      "Epoch 66/100\n",
      "15000/15000 [==============================] - 1s 34us/step - loss: 0.1104 - acc: 0.9708 - val_loss: 0.3002 - val_acc: 0.8830\n",
      "Epoch 67/100\n",
      "15000/15000 [==============================] - 1s 34us/step - loss: 0.1078 - acc: 0.9723 - val_loss: 0.3013 - val_acc: 0.8828\n",
      "Epoch 68/100\n",
      "15000/15000 [==============================] - 1s 43us/step - loss: 0.1054 - acc: 0.9724 - val_loss: 0.3026 - val_acc: 0.8827\n",
      "Epoch 69/100\n",
      "15000/15000 [==============================] - 1s 36us/step - loss: 0.1031 - acc: 0.9732 - val_loss: 0.3042 - val_acc: 0.8825\n",
      "Epoch 70/100\n",
      "15000/15000 [==============================] - 1s 40us/step - loss: 0.1011 - acc: 0.9735 - val_loss: 0.3056 - val_acc: 0.8830\n",
      "Epoch 71/100\n",
      "15000/15000 [==============================] - 1s 48us/step - loss: 0.0989 - acc: 0.9741 - val_loss: 0.3077 - val_acc: 0.8821\n",
      "Epoch 72/100\n",
      "15000/15000 [==============================] - 1s 45us/step - loss: 0.0970 - acc: 0.9747 - val_loss: 0.3090 - val_acc: 0.8815\n",
      "Epoch 73/100\n",
      "15000/15000 [==============================] - 1s 38us/step - loss: 0.0945 - acc: 0.9763 - val_loss: 0.3102 - val_acc: 0.8818\n",
      "Epoch 74/100\n",
      "15000/15000 [==============================] - 1s 43us/step - loss: 0.0928 - acc: 0.9766 - val_loss: 0.3115 - val_acc: 0.8819\n",
      "Epoch 75/100\n",
      "15000/15000 [==============================] - 1s 37us/step - loss: 0.0909 - acc: 0.9775 - val_loss: 0.3133 - val_acc: 0.8818\n",
      "Epoch 76/100\n",
      "15000/15000 [==============================] - 1s 43us/step - loss: 0.0885 - acc: 0.9783 - val_loss: 0.3151 - val_acc: 0.8806\n",
      "Epoch 77/100\n",
      "15000/15000 [==============================] - 1s 40us/step - loss: 0.0869 - acc: 0.9789 - val_loss: 0.3181 - val_acc: 0.8788\n",
      "Epoch 78/100\n",
      "15000/15000 [==============================] - 1s 42us/step - loss: 0.0849 - acc: 0.9797 - val_loss: 0.3184 - val_acc: 0.8810\n",
      "Epoch 79/100\n",
      "15000/15000 [==============================] - 1s 36us/step - loss: 0.0832 - acc: 0.9805 - val_loss: 0.3211 - val_acc: 0.8803\n",
      "Epoch 80/100\n",
      "15000/15000 [==============================] - 1s 42us/step - loss: 0.0817 - acc: 0.9807 - val_loss: 0.3227 - val_acc: 0.8803\n",
      "Epoch 81/100\n",
      "15000/15000 [==============================] - 1s 37us/step - loss: 0.0799 - acc: 0.9814 - val_loss: 0.3252 - val_acc: 0.8801\n",
      "Epoch 82/100\n",
      "15000/15000 [==============================] - 1s 38us/step - loss: 0.0780 - acc: 0.9821 - val_loss: 0.3271 - val_acc: 0.8795\n",
      "Epoch 83/100\n",
      "15000/15000 [==============================] - 1s 39us/step - loss: 0.0763 - acc: 0.9827 - val_loss: 0.3287 - val_acc: 0.8786\n",
      "Epoch 84/100\n",
      "15000/15000 [==============================] - 1s 38us/step - loss: 0.0746 - acc: 0.9835 - val_loss: 0.3304 - val_acc: 0.8785\n",
      "Epoch 85/100\n",
      "15000/15000 [==============================] - 1s 38us/step - loss: 0.0730 - acc: 0.9842 - val_loss: 0.3324 - val_acc: 0.8786\n",
      "Epoch 86/100\n",
      "15000/15000 [==============================] - 1s 38us/step - loss: 0.0714 - acc: 0.9845 - val_loss: 0.3350 - val_acc: 0.8778\n",
      "Epoch 87/100\n",
      "15000/15000 [==============================] - 1s 37us/step - loss: 0.0698 - acc: 0.9851 - val_loss: 0.3368 - val_acc: 0.8772\n",
      "Epoch 88/100\n",
      "15000/15000 [==============================] - 1s 38us/step - loss: 0.0684 - acc: 0.9859 - val_loss: 0.3389 - val_acc: 0.8771\n",
      "Epoch 89/100\n",
      "15000/15000 [==============================] - 1s 37us/step - loss: 0.0670 - acc: 0.9859 - val_loss: 0.3412 - val_acc: 0.8762\n",
      "Epoch 90/100\n",
      "15000/15000 [==============================] - 1s 36us/step - loss: 0.0656 - acc: 0.9861 - val_loss: 0.3440 - val_acc: 0.8761\n",
      "Epoch 91/100\n",
      "15000/15000 [==============================] - 1s 36us/step - loss: 0.0643 - acc: 0.9867 - val_loss: 0.3461 - val_acc: 0.8754\n",
      "Epoch 92/100\n",
      "15000/15000 [==============================] - 1s 36us/step - loss: 0.0627 - acc: 0.9873 - val_loss: 0.3485 - val_acc: 0.8757\n",
      "Epoch 93/100\n",
      "15000/15000 [==============================] - 1s 36us/step - loss: 0.0614 - acc: 0.9884 - val_loss: 0.3511 - val_acc: 0.8773\n",
      "Epoch 94/100\n",
      "15000/15000 [==============================] - 1s 36us/step - loss: 0.0601 - acc: 0.9884 - val_loss: 0.3527 - val_acc: 0.8769\n",
      "Epoch 95/100\n",
      "15000/15000 [==============================] - 1s 35us/step - loss: 0.0587 - acc: 0.9888 - val_loss: 0.3556 - val_acc: 0.8762\n",
      "Epoch 96/100\n",
      "15000/15000 [==============================] - 1s 35us/step - loss: 0.0575 - acc: 0.9894 - val_loss: 0.3584 - val_acc: 0.8768\n",
      "Epoch 97/100\n",
      "15000/15000 [==============================] - 1s 35us/step - loss: 0.0564 - acc: 0.9894 - val_loss: 0.3604 - val_acc: 0.8752\n",
      "Epoch 98/100\n",
      "15000/15000 [==============================] - 1s 36us/step - loss: 0.0550 - acc: 0.9902 - val_loss: 0.3631 - val_acc: 0.8751\n",
      "Epoch 99/100\n",
      "15000/15000 [==============================] - 1s 35us/step - loss: 0.0539 - acc: 0.9909 - val_loss: 0.3656 - val_acc: 0.8751\n",
      "Epoch 100/100\n",
      "15000/15000 [==============================] - 1s 35us/step - loss: 0.0529 - acc: 0.9910 - val_loss: 0.3678 - val_acc: 0.8755\n"
     ]
    }
   ],
   "source": [
    "history = model.fit(partial_x_train,\n",
    "                    partial_y_train,\n",
    "                    epochs=100,\n",
    "                    batch_size=1024,\n",
    "                    validation_data=(x_val, y_val),\n",
    "                    verbose=1)"
   ]
  },
  {
   "cell_type": "code",
   "execution_count": 17,
   "metadata": {},
   "outputs": [
    {
     "name": "stdout",
     "output_type": "stream",
     "text": [
      "25000/25000 [==============================] - 2s 65us/step\n",
      "[0.39667200314044954, 0.86216]\n"
     ]
    }
   ],
   "source": [
    "results = model.evaluate(test_data, test_labels)\n",
    "\n",
    "print(results)"
   ]
  },
  {
   "cell_type": "code",
   "execution_count": 18,
   "metadata": {},
   "outputs": [
    {
     "data": {
      "text/plain": [
       "dict_keys(['val_loss', 'val_acc', 'loss', 'acc'])"
      ]
     },
     "execution_count": 18,
     "metadata": {},
     "output_type": "execute_result"
    }
   ],
   "source": [
    "history_dict = history.history\n",
    "history_dict.keys()"
   ]
  },
  {
   "cell_type": "code",
   "execution_count": 19,
   "metadata": {},
   "outputs": [
    {
     "data": {
      "image/png": "[encoded data removed]",
      "text/plain": [
       "<Figure size 432x288 with 1 Axes>"
      ]
     },
     "metadata": {},
     "output_type": "display_data"
    }
   ],
   "source": [
    "%matplotlib inline\n",
    "import matplotlib.pyplot as plt\n",
    "\n",
    "acc = history.history['acc']\n",
    "val_acc = history.history['val_acc']\n",
    "loss = history.history['loss']\n",
    "val_loss = history.history['val_loss']\n",
    "\n",
    "epochs = range(1, len(acc) + 1)\n",
    "\n",
    "# \"bo\" is for \"blue dot\"\n",
    "plt.plot(epochs, loss, 'bo', label='Training loss')\n",
    "# b is for \"solid blue line\"\n",
    "plt.plot(epochs, val_loss, 'b', label='Validation loss')\n",
    "plt.title('Training and validation loss')\n",
    "plt.xlabel('Epochs')\n",
    "plt.ylabel('Loss')\n",
    "plt.legend()\n",
    "\n",
    "plt.show()"
   ]
  },
  {
   "cell_type": "code",
   "execution_count": 20,
   "metadata": {},
   "outputs": [
    {
     "data": {
      "image/png": "[encoded data removed]",
      "text/plain": [
       "<Figure size 432x288 with 1 Axes>"
      ]
     },
     "metadata": {},
     "output_type": "display_data"
    }
   ],
   "source": [
    "acc_values = history_dict['acc']\n",
    "val_acc_values = history_dict['val_acc']\n",
    "\n",
    "plt.plot(epochs, acc, 'bo', label='Training acc')\n",
    "plt.plot(epochs, val_acc, 'b', label='Validation acc')\n",
    "plt.title('Training and validation accuracy')\n",
    "plt.xlabel('Epochs')\n",
    "plt.ylabel('Accuracy')\n",
    "plt.legend()\n",
    "\n",
    "plt.show()"
   ]
  },
  {
   "cell_type": "code",
   "execution_count": null,
   "metadata": {},
   "outputs": [],
   "source": []
  }
 ],
 "metadata": {
  "kernelspec": {
   "display_name": "Python 3",
   "language": "python",
   "name": "python3"
  },
  "language_info": {
   "codemirror_mode": {
    "name": "ipython",
    "version": 3
   },
   "file_extension": ".py",
   "mimetype": "text/x-python",
   "name": "python",
   "nbconvert_exporter": "python",
   "pygments_lexer": "ipython3",
   "version": "3.6.5"
  }
 },
 "nbformat": 4,
 "nbformat_minor": 2
}
