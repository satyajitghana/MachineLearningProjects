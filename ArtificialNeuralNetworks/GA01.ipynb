{
 "cells": [
  {
   "cell_type": "markdown",
   "metadata": {},
   "source": [
    "# Genetic Algorithms"
   ]
  },
  {
   "cell_type": "markdown",
   "metadata": {},
   "source": [
    "Let's try to create a genetic algorithm that optimizes a list such that the sum of the list of N elements equals to X  \n",
    "For example if ``N = 5`` and ``X = 200`` the possible lists can be"
   ]
  },
  {
   "cell_type": "code",
   "execution_count": 3,
   "metadata": {},
   "outputs": [
    {
     "data": {
      "text/plain": [
       "([40, 40, 40, 40, 40], [50, 50, 50, 25, 25], [200, 0, 0, 0, 0])"
      ]
     },
     "execution_count": 3,
     "metadata": {},
     "output_type": "execute_result"
    }
   ],
   "source": [
    "[40, 40, 40, 40, 40], [50, 50, 50, 25, 25], [200, 0, 0, 0, 0]"
   ]
  },
  {
   "cell_type": "markdown",
   "metadata": {},
   "source": [
    "## Defining an Individual"
   ]
  },
  {
   "cell_type": "code",
   "execution_count": 9,
   "metadata": {},
   "outputs": [],
   "source": [
    "import random"
   ]
  },
  {
   "cell_type": "code",
   "execution_count": 10,
   "metadata": {},
   "outputs": [],
   "source": [
    "def individual(length, min, max):\n",
    "    'Create a member of the population'\n",
    "    return [random.randint(min, max) for x in range(length)]"
   ]
  },
  {
   "cell_type": "code",
   "execution_count": 11,
   "metadata": {},
   "outputs": [
    {
     "data": {
      "text/plain": [
       "[27, 69, 13, 72, 22]"
      ]
     },
     "execution_count": 11,
     "metadata": {},
     "output_type": "execute_result"
    }
   ],
   "source": [
    "individual(5, 0, 100)"
   ]
  },
  {
   "cell_type": "code",
   "execution_count": 12,
   "metadata": {},
   "outputs": [
    {
     "data": {
      "text/plain": [
       "[59, 89, 10, 23, 49]"
      ]
     },
     "execution_count": 12,
     "metadata": {},
     "output_type": "execute_result"
    }
   ],
   "source": [
    "individual(5, 0, 100)"
   ]
  },
  {
   "cell_type": "markdown",
   "metadata": {},
   "source": [
    "## Defining the Population"
   ]
  },
  {
   "cell_type": "code",
   "execution_count": 13,
   "metadata": {},
   "outputs": [],
   "source": [
    "def population(count, length, min, max):\n",
    "    return [ individual(length, min, max) for x in range(count)]"
   ]
  },
  {
   "cell_type": "code",
   "execution_count": 14,
   "metadata": {},
   "outputs": [
    {
     "data": {
      "text/plain": [
       "[[58, 34, 100, 67, 86], [81, 15, 5, 66, 47], [61, 60, 59, 91, 47]]"
      ]
     },
     "execution_count": 14,
     "metadata": {},
     "output_type": "execute_result"
    }
   ],
   "source": [
    "population(3, 5, 0, 100)"
   ]
  },
  {
   "cell_type": "markdown",
   "metadata": {},
   "source": [
    "## Defining the Fitness parameter"
   ]
  },
  {
   "cell_type": "code",
   "execution_count": 31,
   "metadata": {},
   "outputs": [],
   "source": [
    "import operator\n",
    "import functools"
   ]
  },
  {
   "cell_type": "code",
   "execution_count": 32,
   "metadata": {},
   "outputs": [],
   "source": [
    "def fitness(individual, target):\n",
    "    sum = functools.reduce(operator.add, individual, 0)\n",
    "    return abs(target-sum)"
   ]
  },
  {
   "cell_type": "code",
   "execution_count": 35,
   "metadata": {},
   "outputs": [],
   "source": [
    "x = individual(5, 0, 100)"
   ]
  },
  {
   "cell_type": "code",
   "execution_count": 36,
   "metadata": {},
   "outputs": [
    {
     "data": {
      "text/plain": [
       "98"
      ]
     },
     "execution_count": 36,
     "metadata": {},
     "output_type": "execute_result"
    }
   ],
   "source": [
    "fitness(x, 200)"
   ]
  },
  {
   "cell_type": "code",
   "execution_count": 37,
   "metadata": {},
   "outputs": [],
   "source": [
    "def grade(pop, target):\n",
    "    'Find the average fitness for a given population'\n",
    "    summed = functools.reduce(operator.add, (fitness(x, target) for x in pop), 0)\n",
    "    return summed / (len(pop) * 1.0)"
   ]
  },
  {
   "cell_type": "code",
   "execution_count": 40,
   "metadata": {},
   "outputs": [
    {
     "data": {
      "text/plain": [
       "45.333333333333336"
      ]
     },
     "execution_count": 40,
     "metadata": {},
     "output_type": "execute_result"
    }
   ],
   "source": [
    "x = population(3, 5, 0, 100)\n",
    "target = 200\n",
    "grade(x, target)"
   ]
  },
  {
   "cell_type": "markdown",
   "metadata": {},
   "source": [
    "## Evolution"
   ]
  },
  {
   "cell_type": "code",
   "execution_count": 42,
   "metadata": {},
   "outputs": [
    {
     "data": {
      "text/plain": [
       "[1, 2, 3, 10, 20, 30]"
      ]
     },
     "execution_count": 42,
     "metadata": {},
     "output_type": "execute_result"
    }
   ],
   "source": [
    "father = [1, 2, 3, 4, 5, 6]\n",
    "mother = [10, 20, 30, 40, 50, 60]\n",
    "child = father[:3] + mother[:3]\n",
    "child"
   ]
  },
  {
   "cell_type": "markdown",
   "metadata": {},
   "source": [
    "one parent can breed multiple times, but a parent can never be both the father and the mother"
   ]
  },
  {
   "cell_type": "code",
   "execution_count": 43,
   "metadata": {},
   "outputs": [
    {
     "ename": "TypeError",
     "evalue": "'function' object is not iterable",
     "output_type": "error",
     "traceback": [
      "\u001b[1;31m---------------------------------------------------------------------------\u001b[0m",
      "\u001b[1;31mTypeError\u001b[0m                                 Traceback (most recent call last)",
      "\u001b[1;32m<ipython-input-43-bca9b30af6d5>\u001b[0m in \u001b[0;36m<module>\u001b[1;34m()\u001b[0m\n\u001b[0;32m      1\u001b[0m \u001b[0mmutation_rate\u001b[0m \u001b[1;33m=\u001b[0m \u001b[1;36m0.01\u001b[0m\u001b[1;33m\u001b[0m\u001b[0m\n\u001b[1;32m----> 2\u001b[1;33m \u001b[1;32mfor\u001b[0m \u001b[0mi\u001b[0m \u001b[1;32min\u001b[0m \u001b[0mpopulation\u001b[0m\u001b[1;33m:\u001b[0m\u001b[1;33m\u001b[0m\u001b[0m\n\u001b[0m\u001b[0;32m      3\u001b[0m     \u001b[1;32mif\u001b[0m \u001b[0mmutation_rate\u001b[0m \u001b[1;33m>\u001b[0m \u001b[0mrandom\u001b[0m\u001b[1;33m.\u001b[0m\u001b[0mrandom\u001b[0m\u001b[1;33m(\u001b[0m\u001b[1;33m)\u001b[0m\u001b[1;33m:\u001b[0m\u001b[1;33m\u001b[0m\u001b[0m\n\u001b[0;32m      4\u001b[0m         \u001b[0mmodify\u001b[0m \u001b[1;33m=\u001b[0m \u001b[0mrandom\u001b[0m\u001b[1;33m.\u001b[0m\u001b[0mrandint\u001b[0m\u001b[1;33m(\u001b[0m\u001b[1;36m0\u001b[0m\u001b[1;33m,\u001b[0m \u001b[0mlen\u001b[0m\u001b[1;33m(\u001b[0m\u001b[0mi\u001b[0m\u001b[1;33m)\u001b[0m\u001b[1;33m)\u001b[0m\u001b[1;33m\u001b[0m\u001b[0m\n\u001b[0;32m      5\u001b[0m         \u001b[0mi\u001b[0m\u001b[1;33m[\u001b[0m\u001b[0mmodify\u001b[0m\u001b[1;33m]\u001b[0m \u001b[1;33m=\u001b[0m \u001b[0mrandom\u001b[0m\u001b[1;33m.\u001b[0m\u001b[0mrandint\u001b[0m\u001b[1;33m(\u001b[0m\u001b[0mmin\u001b[0m\u001b[1;33m(\u001b[0m\u001b[0mi\u001b[0m\u001b[1;33m)\u001b[0m\u001b[1;33m,\u001b[0m \u001b[0mmax\u001b[0m\u001b[1;33m(\u001b[0m\u001b[0mi\u001b[0m\u001b[1;33m)\u001b[0m\u001b[1;33m)\u001b[0m\u001b[1;33m\u001b[0m\u001b[0m\n",
      "\u001b[1;31mTypeError\u001b[0m: 'function' object is not iterable"
     ]
    }
   ],
   "source": [
    "mutation_rate = 0.01\n",
    "for i in population:\n",
    "    if mutation_rate > random.random():\n",
    "        modify = random.randint(0, len(i))\n",
    "        i[modify] = random.randint(min(i), max(i))"
   ]
  },
  {
   "cell_type": "code",
   "execution_count": 51,
   "metadata": {},
   "outputs": [],
   "source": [
    "def evolve(pop, target, retain=0.2, random_select=0.05, mutate=0.01):\n",
    "    graded = [ (fitness(x, target), x) for x in pop]\n",
    "    graded = [ x[1] for x in sorted(graded)]\n",
    "    retain_length = int(len(graded)*retain)\n",
    "    parents = graded[:retain_length]\n",
    "\n",
    "    for individual in graded[retain_length:]:\n",
    "        if random_select > random.random():\n",
    "            parents.append(individual)\n",
    "            \n",
    "    for individual in parents:\n",
    "        if mutate > random.random():\n",
    "            pos_to_mutate = random.randint(0, len(individual)-1)\n",
    "            individual[pos_to_mutate] = random.randint(\n",
    "                min(individual), max(individual))\n",
    "    \n",
    "    parents_length = len(parents)\n",
    "    desired_length = len(pop) - parents_length\n",
    "    children = []\n",
    "    while len(children) < desired_length:\n",
    "        male = random.randint(0, parents_length-1)\n",
    "        female = random.randint(0, parents_length-1)\n",
    "        if male != female:\n",
    "            male = parents[male]\n",
    "            female = parents[female]\n",
    "            half = int(len(male) / 2)\n",
    "            child = male[:half] + female[half:]\n",
    "            children.append(child)\n",
    "\n",
    "    parents.extend(children)\n",
    "    return parents"
   ]
  },
  {
   "cell_type": "markdown",
   "metadata": {},
   "source": [
    "## Testing"
   ]
  },
  {
   "cell_type": "code",
   "execution_count": 54,
   "metadata": {},
   "outputs": [
    {
     "data": {
      "text/plain": [
       "[119.61,\n",
       " 44.47,\n",
       " 31.75,\n",
       " 25.02,\n",
       " 18.74,\n",
       " 19.02,\n",
       " 21.07,\n",
       " 26.17,\n",
       " 27.34,\n",
       " 8.74,\n",
       " 2.96,\n",
       " 0.56,\n",
       " 0.84,\n",
       " 0.98,\n",
       " 0.7,\n",
       " 1.26,\n",
       " 1.68,\n",
       " 1.68,\n",
       " 1.82,\n",
       " 1.68,\n",
       " 1.26,\n",
       " 0.98,\n",
       " 0.7,\n",
       " 1.54,\n",
       " 1.12,\n",
       " 0.84,\n",
       " 0.7,\n",
       " 1.12,\n",
       " 0.98,\n",
       " 0.98,\n",
       " 0.98,\n",
       " 0.66,\n",
       " 1.2,\n",
       " 1.26,\n",
       " 0.7,\n",
       " 0.7,\n",
       " 1.82,\n",
       " 1.68,\n",
       " 1.68,\n",
       " 2.52,\n",
       " 1.96,\n",
       " 1.26,\n",
       " 0.84,\n",
       " 0.98,\n",
       " 1.12,\n",
       " 1.12,\n",
       " 1.26,\n",
       " 1.26,\n",
       " 0.85,\n",
       " 1.74,\n",
       " 0.42,\n",
       " 1.12,\n",
       " 0.28,\n",
       " 0.42,\n",
       " 0.98,\n",
       " 1.12,\n",
       " 1.54,\n",
       " 1.12,\n",
       " 2.26,\n",
       " 3.26,\n",
       " 2.68,\n",
       " 3.11,\n",
       " 5.66,\n",
       " 5.04,\n",
       " 6.3,\n",
       " 2.94,\n",
       " 0.42,\n",
       " 0.0,\n",
       " 0.6,\n",
       " 0.0,\n",
       " 0.0,\n",
       " 0.0,\n",
       " 0.0,\n",
       " 0.0,\n",
       " 0.0,\n",
       " 1.12,\n",
       " 0.7,\n",
       " 0.0,\n",
       " 0.0,\n",
       " 0.0,\n",
       " 0.0,\n",
       " 0.42,\n",
       " 0.0,\n",
       " 0.56,\n",
       " 0.04,\n",
       " 0.64,\n",
       " 0.0,\n",
       " 0.0,\n",
       " 0.0,\n",
       " 0.0,\n",
       " 0.0,\n",
       " 0.0,\n",
       " 0.0,\n",
       " 0.0,\n",
       " 0.0,\n",
       " 0.0,\n",
       " 0.0,\n",
       " 0.0,\n",
       " 0.0,\n",
       " 0.0,\n",
       " 0.0]"
      ]
     },
     "execution_count": 54,
     "metadata": {},
     "output_type": "execute_result"
    }
   ],
   "source": [
    "target = 371\n",
    "population_count = 100\n",
    "i_length = 5\n",
    "i_min = 0\n",
    "i_max = 100\n",
    "p = population(population_count, i_length, i_min, i_max)\n",
    "fitness_history = [grade(p, target),]\n",
    "for i in range(100):\n",
    "    p = evolve(p, target)\n",
    "    fitness_history.append(grade(p, target))\n",
    "\n",
    "fitness_history"
   ]
  },
  {
   "cell_type": "code",
   "execution_count": null,
   "metadata": {},
   "outputs": [],
   "source": []
  }
 ],
 "metadata": {
  "kernelspec": {
   "display_name": "Python 3",
   "language": "python",
   "name": "python3"
  },
  "language_info": {
   "codemirror_mode": {
    "name": "ipython",
    "version": 3
   },
   "file_extension": ".py",
   "mimetype": "text/x-python",
   "name": "python",
   "nbconvert_exporter": "python",
   "pygments_lexer": "ipython3",
   "version": "3.6.5"
  }
 },
 "nbformat": 4,
 "nbformat_minor": 2
}
